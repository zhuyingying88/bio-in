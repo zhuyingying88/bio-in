{
 "cells": [
  {
   "cell_type": "code",
   "execution_count": 1,
   "metadata": {},
   "outputs": [
    {
     "data": {
      "image/png": "[encoded data removed]",
      "text/plain": [
       "<Figure size 576x432 with 10 Axes>"
      ]
     },
     "metadata": {
      "needs_background": "light"
     },
     "output_type": "display_data"
    }
   ],
   "source": [
    "# 绘制列线图\n",
    "\n",
    "import matplotlib.pyplot as plt\n",
    "from matplotlib import ticker\n",
    "import matplotlib\n",
    "\n",
    "\n",
    "# matplotlib.use(\"Agg\")\n",
    "\n",
    "# 设置展示的刻度\n",
    "# 设置刻度轴位置\n",
    "# 刻度起始值、结束值、刻度最小精度、刻度间隔\n",
    "# 文字位置\n",
    "def setup(ax, title, minx, maxx, major, minor, position=\"bottom\"):\n",
    "    # 只显示底部脊椎\n",
    "    ax.yaxis.set_major_locator(ticker.NullLocator())\n",
    "    ax.spines['right'].set_color('none')\n",
    "    ax.spines['left'].set_color('none')\n",
    "    if (position == \"bottom\"):\n",
    "        ax.spines['top'].set_color('none')\n",
    "    elif (position == \"top\"):\n",
    "        ax.spines['bottom'].set_color('none')\n",
    "\n",
    "    # 定义刻度最大最小精度\n",
    "    ax.xaxis.set_major_locator(ticker.MultipleLocator(major))\n",
    "    ax.xaxis.set_minor_locator(ticker.MultipleLocator(minor))  # 最小刻度精度\n",
    "\n",
    "    # 定义刻度位置\n",
    "    ax.xaxis.set_ticks_position(position)\n",
    "\n",
    "    ax.set_xlim(minx, maxx)\n",
    "    ax.text(-0.5, -0.3, title, transform=ax.transAxes,\n",
    "            fontsize=9, fontname='Monospace', color='black')\n",
    "\n",
    "\n",
    "fig, axs = plt.subplots(10, 1, figsize=(8, 6))\n",
    "# fig.suptitle(\"log (λ)\") # 设置标题\n",
    "\n",
    "# CISD1         -1.6853      0.464     -3.632      0.000      -2.595      -0.776\n",
    "# HSBP1         -1.6595      0.509     -3.262      0.001      -2.657      -0.662\n",
    "# PGD           -1.1922      0.477     -2.497      0.013      -2.128      -0.257\n",
    "# GSS            2.5334      0.857      2.956      0.003       0.853       4.213\n",
    "# GCLM           3.1088      0.948      3.279      0.001       1.251       4.967\n",
    "# PEBP1         -1.2300      0.391     -3.142      0.002      -1.997      -0.463\n",
    "# CS            -2.8360      0.876     -3.237      0.001      -4.553      -1.119\n",
    "\n",
    "setup(axs[0], title=\"Points\", position=\"top\", minx=0, maxx=100, major=10, minor=2.5)\n",
    "axs[0].xaxis.set_major_formatter(ticker.ScalarFormatter(useMathText=True))\n",
    "\n",
    "setup(axs[1], title=\"CISD1\", minx=7.39, maxx=8.94, major=0.2, minor=0.2)\n",
    "axs[1].xaxis.set_major_formatter(ticker.ScalarFormatter(useMathText=True))\n",
    "\n",
    "setup(axs[2], title=\"HSBP1\", minx=8.11, maxx=9.40, major=0.2, minor=0.2)\n",
    "axs[2].xaxis.set_major_formatter(ticker.ScalarFormatter(useMathText=True))\n",
    "\n",
    "setup(axs[3], title=\"PGD\", minx=9.34, maxx=11.67, major=0.5, minor=0.5)\n",
    "axs[3].xaxis.set_major_formatter(ticker.ScalarFormatter(useMathText=True))\n",
    "\n",
    "setup(axs[4], title=\"GSS\", minx=6.98, maxx=7.74, major=0.1, minor=0.1)\n",
    "axs[4].xaxis.set_major_formatter(ticker.ScalarFormatter(useMathText=True))\n",
    "\n",
    "setup(axs[5], title=\"GCLM\", minx=7.04, maxx=7.68, major=0.1, minor=0.1)\n",
    "axs[5].xaxis.set_major_formatter(ticker.ScalarFormatter(useMathText=True))\n",
    "\n",
    "setup(axs[6], title=\"PEBP1\", minx=7.37, maxx=8.89, major=0.2, minor=0.2)\n",
    "axs[6].xaxis.set_major_formatter(ticker.ScalarFormatter(useMathText=True))\n",
    "\n",
    "setup(axs[7], title=\"CS\", minx=8.28, maxx=9.14, major=0.1, minor=0.1)\n",
    "axs[7].xaxis.set_major_formatter(ticker.ScalarFormatter(useMathText=True))\n",
    "\n",
    "setup(axs[8], title=\"Total Points\", minx=0, maxx=800, major=100, minor=500)\n",
    "axs[8].xaxis.set_major_formatter(ticker.ScalarFormatter(useMathText=True))\n",
    "\n",
    "setup(axs[9], title=\"Risk of Disease\", minx=0.2, maxx=0.8, major=0.05, minor=0.05)\n",
    "axs[9].xaxis.set_major_formatter(ticker.ScalarFormatter(useMathText=True))\n",
    "\n",
    "fig.tight_layout()\n",
    "plt.savefig('nomogram.png')\n",
    "plt.show()\n",
    "\n",
    "# 保存图片\n",
    "\n"
   ]
  },
  {
   "cell_type": "code",
   "execution_count": null,
   "metadata": {},
   "outputs": [],
   "source": []
  }
 ],
 "metadata": {
  "kernelspec": {
   "display_name": "Python 3.9.7 ('base')",
   "language": "python",
   "name": "python3"
  },
  "language_info": {
   "codemirror_mode": {
    "name": "ipython",
    "version": 3
   },
   "file_extension": ".py",
   "mimetype": "text/x-python",
   "name": "python",
   "nbconvert_exporter": "python",
   "pygments_lexer": "ipython3",
   "version": "3.9.7"
  },
  "orig_nbformat": 4,
  "vscode": {
   "interpreter": {
    "hash": "23fe38d80d0ad2ce9d9e0c19e3d17f92ec5026012c6ac3419efcb9f0b9f12176"
   }
  }
 },
 "nbformat": 4,
 "nbformat_minor": 2
}
