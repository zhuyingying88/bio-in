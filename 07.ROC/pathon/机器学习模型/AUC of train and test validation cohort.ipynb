{
 "cells": [
  {
   "cell_type": "markdown",
   "id": "1418ea39",
   "metadata": {
    "papermill": {
     "duration": 0.043368,
     "end_time": "2022-04-02T12:41:14.576451",
     "exception": false,
     "start_time": "2022-04-02T12:41:14.533083",
     "status": "completed"
    },
    "tags": []
   },
   "source": [
    "# <b>2 <span style='color:#0386f7de'>|</span> Importing libraries</b>"
   ]
  },
  {
   "cell_type": "code",
   "execution_count": 24,
   "id": "754d94e8",
   "metadata": {
    "execution": {
     "iopub.execute_input": "2022-04-02T12:41:14.672718Z",
     "iopub.status.busy": "2022-04-02T12:41:14.672055Z",
     "iopub.status.idle": "2022-04-02T12:41:16.031609Z",
     "shell.execute_reply": "2022-04-02T12:41:16.030910Z",
     "shell.execute_reply.started": "2022-03-11T11:19:22.144476Z"
    },
    "papermill": {
     "duration": 1.411334,
     "end_time": "2022-04-02T12:41:16.031840",
     "exception": false,
     "start_time": "2022-04-02T12:41:14.620506",
     "status": "completed"
    },
    "tags": []
   },
   "outputs": [],
   "source": [
    "import pandas as pd \n",
    "import numpy as np\n",
    "\n",
    "import seaborn as sns\n",
    "\n",
    "%matplotlib inline\n",
    "import matplotlib.pyplot as plt\n",
    "\n",
    "from sklearn.model_selection import train_test_split\n",
    "from sklearn.neighbors import KNeighborsClassifier\n",
    "from sklearn.linear_model import LogisticRegression\n",
    "from sklearn.compose import make_column_transformer\n",
    "from sklearn.preprocessing import OneHotEncoder\n",
    "from sklearn import metrics"
   ]
  },
  {
   "cell_type": "markdown",
   "id": "ef19d0c0",
   "metadata": {
    "papermill": {
     "duration": 0.043363,
     "end_time": "2022-04-02T12:41:16.121632",
     "exception": false,
     "start_time": "2022-04-02T12:41:16.078269",
     "status": "completed"
    },
    "tags": []
   },
   "source": [
    "读取数据"
   ]
  },
  {
   "cell_type": "code",
   "execution_count": 25,
   "id": "673e74fc",
   "metadata": {
    "execution": {
     "iopub.execute_input": "2022-04-02T12:41:16.212971Z",
     "iopub.status.busy": "2022-04-02T12:41:16.212234Z",
     "iopub.status.idle": "2022-04-02T12:41:17.225635Z",
     "shell.execute_reply": "2022-04-02T12:41:17.225060Z",
     "shell.execute_reply.started": "2022-03-11T11:19:22.282759Z"
    },
    "papermill": {
     "duration": 1.060167,
     "end_time": "2022-04-02T12:41:17.225815",
     "exception": false,
     "start_time": "2022-04-02T12:41:16.165648",
     "status": "completed"
    },
    "tags": []
   },
   "outputs": [
    {
     "data": {
      "text/html": [
       "<div>\n",
       "<style scoped>\n",
       "    .dataframe tbody tr th:only-of-type {\n",
       "        vertical-align: middle;\n",
       "    }\n",
       "\n",
       "    .dataframe tbody tr th {\n",
       "        vertical-align: top;\n",
       "    }\n",
       "\n",
       "    .dataframe thead th {\n",
       "        text-align: right;\n",
       "    }\n",
       "</style>\n",
       "<table border=\"1\" class=\"dataframe\">\n",
       "  <thead>\n",
       "    <tr style=\"text-align: right;\">\n",
       "      <th></th>\n",
       "      <th>ID</th>\n",
       "      <th>Type</th>\n",
       "      <th>CISD1</th>\n",
       "      <th>HSBP1</th>\n",
       "      <th>PGD</th>\n",
       "      <th>GSS</th>\n",
       "      <th>GCLM</th>\n",
       "      <th>PEBP1</th>\n",
       "      <th>CS</th>\n",
       "    </tr>\n",
       "  </thead>\n",
       "  <tbody>\n",
       "    <tr>\n",
       "      <th>0</th>\n",
       "      <td>GSM1539119_con</td>\n",
       "      <td>Normal</td>\n",
       "      <td>8.795816</td>\n",
       "      <td>8.706207</td>\n",
       "      <td>10.501995</td>\n",
       "      <td>7.314575</td>\n",
       "      <td>7.269242</td>\n",
       "      <td>8.385940</td>\n",
       "      <td>8.562655</td>\n",
       "    </tr>\n",
       "    <tr>\n",
       "      <th>1</th>\n",
       "      <td>GSM1539120_con</td>\n",
       "      <td>Normal</td>\n",
       "      <td>8.699967</td>\n",
       "      <td>9.035012</td>\n",
       "      <td>10.235847</td>\n",
       "      <td>7.127705</td>\n",
       "      <td>7.232673</td>\n",
       "      <td>8.533798</td>\n",
       "      <td>8.610914</td>\n",
       "    </tr>\n",
       "    <tr>\n",
       "      <th>2</th>\n",
       "      <td>GSM1539121_con</td>\n",
       "      <td>Normal</td>\n",
       "      <td>8.325783</td>\n",
       "      <td>8.747281</td>\n",
       "      <td>9.971817</td>\n",
       "      <td>7.505986</td>\n",
       "      <td>7.348975</td>\n",
       "      <td>7.968376</td>\n",
       "      <td>8.584417</td>\n",
       "    </tr>\n",
       "    <tr>\n",
       "      <th>3</th>\n",
       "      <td>GSM1539122_con</td>\n",
       "      <td>Normal</td>\n",
       "      <td>8.626391</td>\n",
       "      <td>8.784318</td>\n",
       "      <td>10.328776</td>\n",
       "      <td>7.253972</td>\n",
       "      <td>7.247410</td>\n",
       "      <td>7.980878</td>\n",
       "      <td>8.542854</td>\n",
       "    </tr>\n",
       "    <tr>\n",
       "      <th>4</th>\n",
       "      <td>GSM1539123_con</td>\n",
       "      <td>Normal</td>\n",
       "      <td>8.650741</td>\n",
       "      <td>9.005201</td>\n",
       "      <td>10.129801</td>\n",
       "      <td>7.270759</td>\n",
       "      <td>7.216582</td>\n",
       "      <td>7.850519</td>\n",
       "      <td>8.743702</td>\n",
       "    </tr>\n",
       "  </tbody>\n",
       "</table>\n",
       "</div>"
      ],
      "text/plain": [
       "               ID    Type     CISD1     HSBP1        PGD       GSS      GCLM  \\\n",
       "0  GSM1539119_con  Normal  8.795816  8.706207  10.501995  7.314575  7.269242   \n",
       "1  GSM1539120_con  Normal  8.699967  9.035012  10.235847  7.127705  7.232673   \n",
       "2  GSM1539121_con  Normal  8.325783  8.747281   9.971817  7.505986  7.348975   \n",
       "3  GSM1539122_con  Normal  8.626391  8.784318  10.328776  7.253972  7.247410   \n",
       "4  GSM1539123_con  Normal  8.650741  9.005201  10.129801  7.270759  7.216582   \n",
       "\n",
       "      PEBP1        CS  \n",
       "0  8.385940  8.562655  \n",
       "1  8.533798  8.610914  \n",
       "2  7.968376  8.584417  \n",
       "3  7.980878  8.542854  \n",
       "4  7.850519  8.743702  "
      ]
     },
     "execution_count": 25,
     "metadata": {},
     "output_type": "execute_result"
    }
   ],
   "source": [
    "df = pd.read_csv('data.csv')\n",
    "df.head()"
   ]
  },
  {
   "cell_type": "markdown",
   "id": "76d6ff7a",
   "metadata": {
    "papermill": {
     "duration": 0.043891,
     "end_time": "2022-04-02T12:41:17.314136",
     "exception": false,
     "start_time": "2022-04-02T12:41:17.270245",
     "status": "completed"
    },
    "tags": []
   },
   "source": [
    "数值特征总结"
   ]
  },
  {
   "cell_type": "code",
   "execution_count": 26,
   "id": "835d5fb5",
   "metadata": {
    "execution": {
     "iopub.execute_input": "2022-04-02T12:41:17.413259Z",
     "iopub.status.busy": "2022-04-02T12:41:17.404730Z",
     "iopub.status.idle": "2022-04-02T12:41:17.550496Z",
     "shell.execute_reply": "2022-04-02T12:41:17.549942Z",
     "shell.execute_reply.started": "2022-03-11T11:19:23.131809Z"
    },
    "papermill": {
     "duration": 0.192567,
     "end_time": "2022-04-02T12:41:17.550651",
     "exception": false,
     "start_time": "2022-04-02T12:41:17.358084",
     "status": "completed"
    },
    "tags": []
   },
   "outputs": [
    {
     "data": {
      "text/html": [
       "<style type=\"text/css\">\n",
       "#T_b437f_row0_col0, #T_b437f_row0_col1, #T_b437f_row0_col2, #T_b437f_row0_col3, #T_b437f_row0_col4, #T_b437f_row0_col5, #T_b437f_row0_col6, #T_b437f_row0_col7, #T_b437f_row1_col0, #T_b437f_row1_col1, #T_b437f_row1_col2, #T_b437f_row1_col3, #T_b437f_row1_col4, #T_b437f_row1_col5, #T_b437f_row1_col6, #T_b437f_row1_col7, #T_b437f_row2_col0, #T_b437f_row2_col1, #T_b437f_row2_col2, #T_b437f_row2_col3, #T_b437f_row2_col4, #T_b437f_row2_col5, #T_b437f_row2_col6, #T_b437f_row2_col7, #T_b437f_row3_col0, #T_b437f_row3_col1, #T_b437f_row3_col2, #T_b437f_row3_col3, #T_b437f_row3_col4, #T_b437f_row3_col5, #T_b437f_row3_col6, #T_b437f_row3_col7, #T_b437f_row4_col0, #T_b437f_row4_col1, #T_b437f_row4_col2, #T_b437f_row4_col3, #T_b437f_row4_col4, #T_b437f_row4_col5, #T_b437f_row4_col6, #T_b437f_row4_col7, #T_b437f_row5_col0, #T_b437f_row5_col1, #T_b437f_row5_col2, #T_b437f_row5_col3, #T_b437f_row5_col4, #T_b437f_row5_col5, #T_b437f_row5_col6, #T_b437f_row5_col7, #T_b437f_row6_col0, #T_b437f_row6_col1, #T_b437f_row6_col2, #T_b437f_row6_col3, #T_b437f_row6_col4, #T_b437f_row6_col5, #T_b437f_row6_col6, #T_b437f_row6_col7 {\n",
       "  background-color: grey;\n",
       "  color: white;\n",
       "  border-color: white;\n",
       "}\n",
       "</style>\n",
       "<table id=\"T_b437f\">\n",
       "  <thead>\n",
       "    <tr>\n",
       "      <th class=\"blank level0\" >&nbsp;</th>\n",
       "      <th id=\"T_b437f_level0_col0\" class=\"col_heading level0 col0\" >count</th>\n",
       "      <th id=\"T_b437f_level0_col1\" class=\"col_heading level0 col1\" >mean</th>\n",
       "      <th id=\"T_b437f_level0_col2\" class=\"col_heading level0 col2\" >std</th>\n",
       "      <th id=\"T_b437f_level0_col3\" class=\"col_heading level0 col3\" >min</th>\n",
       "      <th id=\"T_b437f_level0_col4\" class=\"col_heading level0 col4\" >25%</th>\n",
       "      <th id=\"T_b437f_level0_col5\" class=\"col_heading level0 col5\" >50%</th>\n",
       "      <th id=\"T_b437f_level0_col6\" class=\"col_heading level0 col6\" >75%</th>\n",
       "      <th id=\"T_b437f_level0_col7\" class=\"col_heading level0 col7\" >max</th>\n",
       "    </tr>\n",
       "  </thead>\n",
       "  <tbody>\n",
       "    <tr>\n",
       "      <th id=\"T_b437f_level0_row0\" class=\"row_heading level0 row0\" >CISD1</th>\n",
       "      <td id=\"T_b437f_row0_col0\" class=\"data row0 col0\" >716.000000</td>\n",
       "      <td id=\"T_b437f_row0_col1\" class=\"data row0 col1\" >8.114654</td>\n",
       "      <td id=\"T_b437f_row0_col2\" class=\"data row0 col2\" >0.275213</td>\n",
       "      <td id=\"T_b437f_row0_col3\" class=\"data row0 col3\" >7.392273</td>\n",
       "      <td id=\"T_b437f_row0_col4\" class=\"data row0 col4\" >7.924333</td>\n",
       "      <td id=\"T_b437f_row0_col5\" class=\"data row0 col5\" >8.090569</td>\n",
       "      <td id=\"T_b437f_row0_col6\" class=\"data row0 col6\" >8.289950</td>\n",
       "      <td id=\"T_b437f_row0_col7\" class=\"data row0 col7\" >8.939007</td>\n",
       "    </tr>\n",
       "    <tr>\n",
       "      <th id=\"T_b437f_level0_row1\" class=\"row_heading level0 row1\" >HSBP1</th>\n",
       "      <td id=\"T_b437f_row1_col0\" class=\"data row1 col0\" >716.000000</td>\n",
       "      <td id=\"T_b437f_row1_col1\" class=\"data row1 col1\" >8.684740</td>\n",
       "      <td id=\"T_b437f_row1_col2\" class=\"data row1 col2\" >0.230119</td>\n",
       "      <td id=\"T_b437f_row1_col3\" class=\"data row1 col3\" >8.110842</td>\n",
       "      <td id=\"T_b437f_row1_col4\" class=\"data row1 col4\" >8.517403</td>\n",
       "      <td id=\"T_b437f_row1_col5\" class=\"data row1 col5\" >8.672173</td>\n",
       "      <td id=\"T_b437f_row1_col6\" class=\"data row1 col6\" >8.849712</td>\n",
       "      <td id=\"T_b437f_row1_col7\" class=\"data row1 col7\" >9.402732</td>\n",
       "    </tr>\n",
       "    <tr>\n",
       "      <th id=\"T_b437f_level0_row2\" class=\"row_heading level0 row2\" >PGD</th>\n",
       "      <td id=\"T_b437f_row2_col0\" class=\"data row2 col0\" >716.000000</td>\n",
       "      <td id=\"T_b437f_row2_col1\" class=\"data row2 col1\" >10.699477</td>\n",
       "      <td id=\"T_b437f_row2_col2\" class=\"data row2 col2\" >0.361561</td>\n",
       "      <td id=\"T_b437f_row2_col3\" class=\"data row2 col3\" >9.343742</td>\n",
       "      <td id=\"T_b437f_row2_col4\" class=\"data row2 col4\" >10.474226</td>\n",
       "      <td id=\"T_b437f_row2_col5\" class=\"data row2 col5\" >10.727750</td>\n",
       "      <td id=\"T_b437f_row2_col6\" class=\"data row2 col6\" >10.937387</td>\n",
       "      <td id=\"T_b437f_row2_col7\" class=\"data row2 col7\" >11.666733</td>\n",
       "    </tr>\n",
       "    <tr>\n",
       "      <th id=\"T_b437f_level0_row3\" class=\"row_heading level0 row3\" >GSS</th>\n",
       "      <td id=\"T_b437f_row3_col0\" class=\"data row3 col0\" >716.000000</td>\n",
       "      <td id=\"T_b437f_row3_col1\" class=\"data row3 col1\" >7.381162</td>\n",
       "      <td id=\"T_b437f_row3_col2\" class=\"data row3 col2\" >0.135075</td>\n",
       "      <td id=\"T_b437f_row3_col3\" class=\"data row3 col3\" >6.976528</td>\n",
       "      <td id=\"T_b437f_row3_col4\" class=\"data row3 col4\" >7.286659</td>\n",
       "      <td id=\"T_b437f_row3_col5\" class=\"data row3 col5\" >7.390116</td>\n",
       "      <td id=\"T_b437f_row3_col6\" class=\"data row3 col6\" >7.473684</td>\n",
       "      <td id=\"T_b437f_row3_col7\" class=\"data row3 col7\" >7.742642</td>\n",
       "    </tr>\n",
       "    <tr>\n",
       "      <th id=\"T_b437f_level0_row4\" class=\"row_heading level0 row4\" >GCLM</th>\n",
       "      <td id=\"T_b437f_row4_col0\" class=\"data row4 col0\" >716.000000</td>\n",
       "      <td id=\"T_b437f_row4_col1\" class=\"data row4 col1\" >7.318652</td>\n",
       "      <td id=\"T_b437f_row4_col2\" class=\"data row4 col2\" >0.101375</td>\n",
       "      <td id=\"T_b437f_row4_col3\" class=\"data row4 col3\" >7.038331</td>\n",
       "      <td id=\"T_b437f_row4_col4\" class=\"data row4 col4\" >7.249134</td>\n",
       "      <td id=\"T_b437f_row4_col5\" class=\"data row4 col5\" >7.316342</td>\n",
       "      <td id=\"T_b437f_row4_col6\" class=\"data row4 col6\" >7.385215</td>\n",
       "      <td id=\"T_b437f_row4_col7\" class=\"data row4 col7\" >7.677412</td>\n",
       "    </tr>\n",
       "    <tr>\n",
       "      <th id=\"T_b437f_level0_row5\" class=\"row_heading level0 row5\" >PEBP1</th>\n",
       "      <td id=\"T_b437f_row5_col0\" class=\"data row5 col0\" >716.000000</td>\n",
       "      <td id=\"T_b437f_row5_col1\" class=\"data row5 col1\" >8.074643</td>\n",
       "      <td id=\"T_b437f_row5_col2\" class=\"data row5 col2\" >0.264195</td>\n",
       "      <td id=\"T_b437f_row5_col3\" class=\"data row5 col3\" >7.369664</td>\n",
       "      <td id=\"T_b437f_row5_col4\" class=\"data row5 col4\" >7.877078</td>\n",
       "      <td id=\"T_b437f_row5_col5\" class=\"data row5 col5\" >8.051013</td>\n",
       "      <td id=\"T_b437f_row5_col6\" class=\"data row5 col6\" >8.251567</td>\n",
       "      <td id=\"T_b437f_row5_col7\" class=\"data row5 col7\" >8.894122</td>\n",
       "    </tr>\n",
       "    <tr>\n",
       "      <th id=\"T_b437f_level0_row6\" class=\"row_heading level0 row6\" >CS</th>\n",
       "      <td id=\"T_b437f_row6_col0\" class=\"data row6 col0\" >716.000000</td>\n",
       "      <td id=\"T_b437f_row6_col1\" class=\"data row6 col1\" >8.694701</td>\n",
       "      <td id=\"T_b437f_row6_col2\" class=\"data row6 col2\" >0.150350</td>\n",
       "      <td id=\"T_b437f_row6_col3\" class=\"data row6 col3\" >8.280546</td>\n",
       "      <td id=\"T_b437f_row6_col4\" class=\"data row6 col4\" >8.590312</td>\n",
       "      <td id=\"T_b437f_row6_col5\" class=\"data row6 col5\" >8.710006</td>\n",
       "      <td id=\"T_b437f_row6_col6\" class=\"data row6 col6\" >8.798912</td>\n",
       "      <td id=\"T_b437f_row6_col7\" class=\"data row6 col7\" >9.142969</td>\n",
       "    </tr>\n",
       "  </tbody>\n",
       "</table>\n"
      ],
      "text/plain": [
       "<pandas.io.formats.style.Styler at 0x2296f9a19a0>"
      ]
     },
     "execution_count": 26,
     "metadata": {},
     "output_type": "execute_result"
    }
   ],
   "source": [
    "df.describe().T.style.set_properties(**{'background-color': 'grey','color': 'white','border-color': 'white'})"
   ]
  },
  {
   "cell_type": "markdown",
   "id": "372516e3",
   "metadata": {
    "papermill": {
     "duration": 0.045249,
     "end_time": "2022-04-02T12:41:17.641445",
     "exception": false,
     "start_time": "2022-04-02T12:41:17.596196",
     "status": "completed"
    },
    "tags": []
   },
   "source": [
    "数据清洗"
   ]
  },
  {
   "cell_type": "code",
   "execution_count": 27,
   "id": "fe718fa1",
   "metadata": {
    "execution": {
     "iopub.execute_input": "2022-04-02T12:41:17.734937Z",
     "iopub.status.busy": "2022-04-02T12:41:17.734214Z",
     "iopub.status.idle": "2022-04-02T12:41:18.224723Z",
     "shell.execute_reply": "2022-04-02T12:41:18.225362Z",
     "shell.execute_reply.started": "2022-03-11T11:19:23.279022Z"
    },
    "papermill": {
     "duration": 0.539198,
     "end_time": "2022-04-02T12:41:18.225538",
     "exception": false,
     "start_time": "2022-04-02T12:41:17.686340",
     "status": "completed"
    },
    "tags": []
   },
   "outputs": [
    {
     "name": "stdout",
     "output_type": "stream",
     "text": [
      "<class 'pandas.core.frame.DataFrame'>\n",
      "RangeIndex: 716 entries, 0 to 715\n",
      "Data columns (total 9 columns):\n",
      " #   Column  Non-Null Count  Dtype  \n",
      "---  ------  --------------  -----  \n",
      " 0   ID      716 non-null    object \n",
      " 1   Type    716 non-null    object \n",
      " 2   CISD1   716 non-null    float64\n",
      " 3   HSBP1   716 non-null    float64\n",
      " 4   PGD     716 non-null    float64\n",
      " 5   GSS     716 non-null    float64\n",
      " 6   GCLM    716 non-null    float64\n",
      " 7   PEBP1   716 non-null    float64\n",
      " 8   CS      716 non-null    float64\n",
      "dtypes: float64(7), object(2)\n",
      "memory usage: 50.5+ KB\n"
     ]
    }
   ],
   "source": [
    "df.info()"
   ]
  },
  {
   "cell_type": "code",
   "execution_count": 28,
   "id": "fe902940",
   "metadata": {},
   "outputs": [],
   "source": [
    "df =  df[df.columns].replace({'Tumor':1, 'Normal':0, })"
   ]
  },
  {
   "cell_type": "markdown",
   "id": "c6109d9a",
   "metadata": {
    "papermill": {
     "duration": 0.064378,
     "end_time": "2022-04-02T12:41:37.382594",
     "exception": false,
     "start_time": "2022-04-02T12:41:37.318216",
     "status": "completed"
    },
    "tags": []
   },
   "source": [
    "# <b>7<span style='color:#0386f7de'>|</span> Data Preprocessing</b>"
   ]
  },
  {
   "cell_type": "markdown",
   "id": "3954f432",
   "metadata": {
    "papermill": {
     "duration": 0.077266,
     "end_time": "2022-04-02T12:41:37.525041",
     "exception": false,
     "start_time": "2022-04-02T12:41:37.447775",
     "status": "completed"
    },
    "tags": []
   },
   "source": [
    "<div style=\"color:white;display:fill;border-radius:8px;\n",
    "            background-color:#363c40de;font-size:150%;\n",
    "            font-family:Nexa;letter-spacing:0.5px\">\n",
    "    <p style=\"padding: 8px\n",
    ";color:white;\"><b>7.1 | standardization</b></p>\n",
    "</div>. "
   ]
  },
  {
   "cell_type": "code",
   "execution_count": 29,
   "id": "37ab1253",
   "metadata": {
    "execution": {
     "iopub.execute_input": "2022-04-02T12:41:37.669825Z",
     "iopub.status.busy": "2022-04-02T12:41:37.668766Z",
     "iopub.status.idle": "2022-04-02T12:41:37.706024Z",
     "shell.execute_reply": "2022-04-02T12:41:37.706822Z",
     "shell.execute_reply.started": "2022-03-11T11:19:37.296908Z"
    },
    "papermill": {
     "duration": 0.115572,
     "end_time": "2022-04-02T12:41:37.707102",
     "exception": false,
     "start_time": "2022-04-02T12:41:37.591530",
     "status": "completed"
    },
    "tags": []
   },
   "outputs": [],
   "source": [
    "from sklearn.preprocessing import StandardScaler \n",
    "# num_cols = ['MentalHealth', 'BMI', 'PhysicalHealth', 'SleepTime']\n",
    "# Scaler = StandardScaler()\n",
    "# df[num_cols] = Scaler.fit_transform(df[num_cols])"
   ]
  },
  {
   "cell_type": "markdown",
   "id": "16be3475",
   "metadata": {
    "papermill": {
     "duration": 0.06784,
     "end_time": "2022-04-02T12:41:37.856555",
     "exception": false,
     "start_time": "2022-04-02T12:41:37.788715",
     "status": "completed"
    },
    "tags": []
   },
   "source": [
    "<div style=\"color:white;display:fill;border-radius:8px;\n",
    "            background-color:#363c40de;font-size:150%;\n",
    "            font-family:Nexa;letter-spacing:0.5px\">\n",
    "    <p style=\"padding: 8px\n",
    ";color:white;\"><b>7.2  | Encoding</b></p>\n",
    "</div>. "
   ]
  },
  {
   "cell_type": "code",
   "execution_count": 30,
   "id": "aae92f82",
   "metadata": {
    "execution": {
     "iopub.execute_input": "2022-04-02T12:41:37.992050Z",
     "iopub.status.busy": "2022-04-02T12:41:37.991306Z",
     "iopub.status.idle": "2022-04-02T12:41:38.750938Z",
     "shell.execute_reply": "2022-04-02T12:41:38.750237Z",
     "shell.execute_reply.started": "2022-03-11T11:19:37.330518Z"
    },
    "papermill": {
     "duration": 0.828687,
     "end_time": "2022-04-02T12:41:38.751092",
     "exception": false,
     "start_time": "2022-04-02T12:41:37.922405",
     "status": "completed"
    },
    "tags": []
   },
   "outputs": [],
   "source": [
    "from sklearn.preprocessing import OneHotEncoder \n",
    "enc = OneHotEncoder() \n",
    "\n",
    "# Encoding categorical features \n",
    "# categ = df[['AgeCategory', 'Race', 'GenHealth']]\n",
    "# encoded_categ = pd.DataFrame(enc.fit_transform(categ).toarray())\n",
    "\n",
    "#Likning the encoed_cateh with the df\n",
    "# df = pd.concat([df, encoded_categ], axis = 1)\n",
    "\n",
    "# Dropping the categorical features\n",
    "df = df.drop(columns = ['ID'], axis = 1)\n"
   ]
  },
  {
   "cell_type": "markdown",
   "id": "cb58cbc5",
   "metadata": {
    "papermill": {
     "duration": 0.068172,
     "end_time": "2022-04-02T12:41:38.885452",
     "exception": false,
     "start_time": "2022-04-02T12:41:38.817280",
     "status": "completed"
    },
    "tags": []
   },
   "source": [
    "# <b>8<span style='color:#0386f7de'>|</span> Split Dataset for Training and Testing</b>"
   ]
  },
  {
   "cell_type": "code",
   "execution_count": 31,
   "id": "a4ce32e0",
   "metadata": {
    "execution": {
     "iopub.execute_input": "2022-04-02T12:41:39.058135Z",
     "iopub.status.busy": "2022-04-02T12:41:39.057371Z",
     "iopub.status.idle": "2022-04-02T12:41:39.199287Z",
     "shell.execute_reply": "2022-04-02T12:41:39.199808Z",
     "shell.execute_reply.started": "2022-03-11T11:19:37.935187Z"
    },
    "papermill": {
     "duration": 0.249203,
     "end_time": "2022-04-02T12:41:39.200000",
     "exception": false,
     "start_time": "2022-04-02T12:41:38.950797",
     "status": "completed"
    },
    "tags": []
   },
   "outputs": [
    {
     "name": "stdout",
     "output_type": "stream",
     "text": [
      "Shape of training feature: (572, 7)\n",
      "Shape of testing feature: (144, 7)\n",
      "Shape of training label: (572,)\n",
      "Shape of training label: (144,)\n"
     ]
    }
   ],
   "source": [
    "#Select Features\n",
    "features = df.drop(columns =['Type'], axis = 1)\n",
    "\n",
    "#Select Target \n",
    "target = df['Type']\n",
    "\n",
    "# Set Training and Testing Data\n",
    "from sklearn.model_selection import train_test_split\n",
    "X_train, X_test, y_train, y_test = train_test_split(features, target, shuffle = True, test_size = .2, random_state = 44)\n",
    "\n",
    "\n",
    "print('Shape of training feature:', X_train.shape)\n",
    "print('Shape of testing feature:', X_test.shape)\n",
    "print('Shape of training label:', y_train.shape)\n",
    "print('Shape of training label:', y_test.shape)"
   ]
  },
  {
   "cell_type": "markdown",
   "id": "036baeef",
   "metadata": {
    "papermill": {
     "duration": 0.065313,
     "end_time": "2022-04-02T12:41:39.332090",
     "exception": false,
     "start_time": "2022-04-02T12:41:39.266777",
     "status": "completed"
    },
    "tags": []
   },
   "source": [
    "# <b>9<span style='color:#0386f7de'>|</span> Modelling</b>"
   ]
  },
  {
   "cell_type": "code",
   "execution_count": 32,
   "id": "460726b5",
   "metadata": {
    "execution": {
     "iopub.execute_input": "2022-04-02T12:41:39.472921Z",
     "iopub.status.busy": "2022-04-02T12:41:39.472226Z",
     "iopub.status.idle": "2022-04-02T12:41:39.475451Z",
     "shell.execute_reply": "2022-04-02T12:41:39.474905Z",
     "shell.execute_reply.started": "2022-03-11T11:19:38.147643Z"
    },
    "papermill": {
     "duration": 0.077462,
     "end_time": "2022-04-02T12:41:39.475607",
     "exception": false,
     "start_time": "2022-04-02T12:41:39.398145",
     "status": "completed"
    },
    "tags": []
   },
   "outputs": [],
   "source": [
    "def evaluate_model(model, x_test, y_test):\n",
    "    from sklearn import metrics\n",
    "\n",
    "    # Predict Test Data \n",
    "    y_pred = model.predict(x_test)\n",
    "\n",
    "    # Calculate accuracy, precision, recall, f1-score, and kappa score\n",
    "    acc = metrics.accuracy_score(y_test, y_pred)\n",
    "    prec = metrics.precision_score(y_test, y_pred)\n",
    "    rec = metrics.recall_score(y_test, y_pred)\n",
    "    f1 = metrics.f1_score(y_test, y_pred)\n",
    "    kappa = metrics.cohen_kappa_score(y_test, y_pred)\n",
    "\n",
    "    # Calculate area under curve (AUC)\n",
    "    y_pred_proba = model.predict_proba(x_test)[::,1]\n",
    "    fpr, tpr, _ = metrics.roc_curve(y_test, y_pred_proba)\n",
    "    auc = metrics.roc_auc_score(y_test, y_pred_proba)\n",
    "\n",
    "    # Display confussion matrix\n",
    "    cm = metrics.confusion_matrix(y_test, y_pred)\n",
    "\n",
    "    return {'acc': acc, 'prec': prec, 'rec': rec, 'f1': f1, 'kappa': kappa, \n",
    "            'fpr': fpr, 'tpr': tpr, 'auc': auc, 'cm': cm}"
   ]
  },
  {
   "cell_type": "markdown",
   "id": "3cc19d75",
   "metadata": {
    "papermill": {
     "duration": 0.066181,
     "end_time": "2022-04-02T12:41:39.607859",
     "exception": false,
     "start_time": "2022-04-02T12:41:39.541678",
     "status": "completed"
    },
    "tags": []
   },
   "source": [
    "<div style=\"color:white;display:fill;border-radius:8px;\n",
    "            background-color:#363c40de;font-size:150%;\n",
    "            font-family:Nexa;letter-spacing:0.5px\">\n",
    "    <p style=\"padding: 8px\n",
    ";color:white;\"><b>9.1 | Building Model</b></p>\n",
    "</div>. "
   ]
  },
  {
   "cell_type": "code",
   "execution_count": 33,
   "id": "d4054905",
   "metadata": {},
   "outputs": [
    {
     "name": "stdout",
     "output_type": "stream",
     "text": [
      "Accuracy: 0.708041958041958\n",
      "Precision: 0.7168316831683168\n",
      "Recall: 0.9378238341968912\n",
      "F1 Score: 0.8125701459034792\n",
      "Cohens Kappa Score: 0.20258447976492588\n",
      "Area Under Curve: 0.7090924285475515\n",
      "Confusion Matrix:\n",
      " [[ 43 143]\n",
      " [ 24 362]]\n"
     ]
    },
    {
     "name": "stderr",
     "output_type": "stream",
     "text": [
      "d:\\Things\\Code\\Anaconda3\\envs\\For_CNN\\lib\\site-packages\\sklearn\\linear_model\\_logistic.py:444: ConvergenceWarning: lbfgs failed to converge (status=1):\n",
      "STOP: TOTAL NO. of ITERATIONS REACHED LIMIT.\n",
      "\n",
      "Increase the number of iterations (max_iter) or scale the data as shown in:\n",
      "    https://scikit-learn.org/stable/modules/preprocessing.html\n",
      "Please also refer to the documentation for alternative solver options:\n",
      "    https://scikit-learn.org/stable/modules/linear_model.html#logistic-regression\n",
      "  n_iter_i = _check_optimize_result(\n"
     ]
    }
   ],
   "source": [
    "LR = LogisticRegression()\n",
    "LR.fit(X_train, y_train)\n",
    "\n",
    "LR_eval0 = evaluate_model(LR, X_train, y_train)\n",
    "\n",
    "print('Accuracy:', LR_eval0['acc'])\n",
    "print('Precision:', LR_eval0['prec'])\n",
    "print('Recall:', LR_eval0['rec'])\n",
    "print('F1 Score:', LR_eval0['f1'])\n",
    "print('Cohens Kappa Score:', LR_eval0['kappa'])\n",
    "print('Area Under Curve:', LR_eval0['auc'])\n",
    "print('Confusion Matrix:\\n', LR_eval0['cm'])\n"
   ]
  },
  {
   "cell_type": "code",
   "execution_count": 34,
   "id": "b770ac07",
   "metadata": {},
   "outputs": [
    {
     "name": "stdout",
     "output_type": "stream",
     "text": [
      "Accuracy: 0.6736111111111112\n",
      "Precision: 0.6746031746031746\n",
      "Recall: 0.9340659340659341\n",
      "F1 Score: 0.7834101382488479\n",
      "Cohens Kappa Score: 0.18614718614718617\n",
      "Area Under Curve: 0.7169811320754718\n",
      "Confusion Matrix:\n",
      " [[12 41]\n",
      " [ 6 85]]\n"
     ]
    },
    {
     "name": "stderr",
     "output_type": "stream",
     "text": [
      "d:\\Things\\Code\\Anaconda3\\envs\\For_CNN\\lib\\site-packages\\sklearn\\linear_model\\_logistic.py:444: ConvergenceWarning: lbfgs failed to converge (status=1):\n",
      "STOP: TOTAL NO. of ITERATIONS REACHED LIMIT.\n",
      "\n",
      "Increase the number of iterations (max_iter) or scale the data as shown in:\n",
      "    https://scikit-learn.org/stable/modules/preprocessing.html\n",
      "Please also refer to the documentation for alternative solver options:\n",
      "    https://scikit-learn.org/stable/modules/linear_model.html#logistic-regression\n",
      "  n_iter_i = _check_optimize_result(\n"
     ]
    }
   ],
   "source": [
    "LR = LogisticRegression()\n",
    "LR.fit(X_train, y_train)\n",
    "\n",
    "LR_eval1 = evaluate_model(LR, X_test, y_test)\n",
    "\n",
    "print('Accuracy:', LR_eval1['acc'])\n",
    "print('Precision:', LR_eval1['prec'])\n",
    "print('Recall:', LR_eval1['rec'])\n",
    "print('F1 Score:', LR_eval1['f1'])\n",
    "print('Cohens Kappa Score:', LR_eval1['kappa'])\n",
    "print('Area Under Curve:', LR_eval1['auc'])\n",
    "print('Confusion Matrix:\\n', LR_eval1['cm'])\n",
    "\n"
   ]
  },
  {
   "cell_type": "markdown",
   "id": "1e17cf4e",
   "metadata": {
    "papermill": {
     "duration": 0.066573,
     "end_time": "2022-04-02T12:50:50.935453",
     "exception": false,
     "start_time": "2022-04-02T12:50:50.868880",
     "status": "completed"
    },
    "tags": []
   },
   "source": [
    "# <b>10<span style='color:#0386f7de'>|</span> Comparison</b>"
   ]
  },
  {
   "cell_type": "code",
   "execution_count": 35,
   "id": "78c8df43",
   "metadata": {},
   "outputs": [
    {
     "data": {
      "image/png": "[encoded data removed]",
      "text/plain": [
       "<Figure size 720x720 with 1 Axes>"
      ]
     },
     "metadata": {},
     "output_type": "display_data"
    }
   ],
   "source": [
    "fig, ax = plt.subplots(figsize = (10,10))\n",
    "\n",
    "fig.set_figheight(10)\n",
    "fig.set_figwidth(10)\n",
    "fig.set_facecolor('white')\n",
    "## Comparing ROC Curve\n",
    "ax.plot(LR_eval0['fpr'], LR_eval0['tpr'], label='AUC of train validation cohort, auc = {:0.5f}'.format(LR_eval0['auc']))\n",
    "ax.plot(LR_eval1['fpr'], LR_eval1['tpr'], label='AUC of test validation cohort, auc = {:0.5f}'.format(LR_eval1['auc']),color = 'red')\n",
    "\n",
    "\n",
    "\n",
    "## Configure x and y axis\n",
    "ax.set_xlabel('False Positive Rate', fontweight='bold')\n",
    "ax.set_ylabel('True Positive Rate', fontweight='bold')\n",
    "\n",
    "## Create legend & title\n",
    "ax.legend(loc=4)\n",
    "\n",
    "plt.show()\n",
    "fig.savefig('AUC of train and test validation cohort.png',dpi=600,bbox_inches='tight')"
   ]
  },
  {
   "cell_type": "code",
   "execution_count": null,
   "id": "b74265ba",
   "metadata": {},
   "outputs": [],
   "source": []
  }
 ],
 "metadata": {
  "interpreter": {
   "hash": "2060d6152d17f4b3c93c312633479dc450a5fd0bdc129f9d29bf5798c94da0b5"
  },
  "kernelspec": {
   "display_name": "Python 3.9.7 ('For_CNN')",
   "language": "python",
   "name": "python3"
  },
  "language_info": {
   "codemirror_mode": {
    "name": "ipython",
    "version": 3
   },
   "file_extension": ".py",
   "mimetype": "text/x-python",
   "name": "python",
   "nbconvert_exporter": "python",
   "pygments_lexer": "ipython3",
   "version": "3.9.7"
  },
  "papermill": {
   "default_parameters": {},
   "duration": 588.24922,
   "end_time": "2022-04-02T12:50:52.401176",
   "environment_variables": {},
   "exception": null,
   "input_path": "__notebook__.ipynb",
   "output_path": "__notebook__.ipynb",
   "parameters": {},
   "start_time": "2022-04-02T12:41:04.151956",
   "version": "2.3.3"
  }
 },
 "nbformat": 4,
 "nbformat_minor": 5
}
