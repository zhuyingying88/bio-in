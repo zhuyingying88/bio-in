{
 "cells": [
  {
   "cell_type": "code",
   "execution_count": 68,
   "metadata": {},
   "outputs": [],
   "source": [
    "import pandas as pd \n",
    "import numpy as np\n",
    "\n",
    "import seaborn as sns\n",
    "\n",
    "%matplotlib inline\n",
    "import matplotlib.pyplot as plt\n",
    "\n",
    "from sklearn.model_selection import train_test_split\n",
    "from sklearn.neighbors import KNeighborsClassifier\n",
    "from sklearn.linear_model import LogisticRegression\n",
    "from sklearn.compose import make_column_transformer\n",
    "from sklearn.preprocessing import OneHotEncoder\n",
    "from sklearn import metrics"
   ]
  },
  {
   "cell_type": "code",
   "execution_count": 69,
   "metadata": {},
   "outputs": [
    {
     "data": {
      "text/html": [
       "<div>\n",
       "<style scoped>\n",
       "    .dataframe tbody tr th:only-of-type {\n",
       "        vertical-align: middle;\n",
       "    }\n",
       "\n",
       "    .dataframe tbody tr th {\n",
       "        vertical-align: top;\n",
       "    }\n",
       "\n",
       "    .dataframe thead th {\n",
       "        text-align: right;\n",
       "    }\n",
       "</style>\n",
       "<table border=\"1\" class=\"dataframe\">\n",
       "  <thead>\n",
       "    <tr style=\"text-align: right;\">\n",
       "      <th></th>\n",
       "      <th>ID</th>\n",
       "      <th>Type</th>\n",
       "      <th>CISD1</th>\n",
       "      <th>G6PD</th>\n",
       "      <th>AKR1C3</th>\n",
       "      <th>HSBP1</th>\n",
       "      <th>ALOX5</th>\n",
       "      <th>ACO1</th>\n",
       "      <th>PHKG2</th>\n",
       "      <th>PGD</th>\n",
       "      <th>GSS</th>\n",
       "      <th>STEAP3</th>\n",
       "      <th>GCLM</th>\n",
       "      <th>PEBP1</th>\n",
       "      <th>CBS</th>\n",
       "      <th>AIFM2</th>\n",
       "      <th>ALOX12</th>\n",
       "      <th>ABCC1</th>\n",
       "      <th>KEAP1</th>\n",
       "      <th>CS</th>\n",
       "    </tr>\n",
       "  </thead>\n",
       "  <tbody>\n",
       "    <tr>\n",
       "      <th>0</th>\n",
       "      <td>GSM1539119_con</td>\n",
       "      <td>Normal</td>\n",
       "      <td>8.795816</td>\n",
       "      <td>8.273098</td>\n",
       "      <td>8.238499</td>\n",
       "      <td>8.706207</td>\n",
       "      <td>8.540995</td>\n",
       "      <td>7.301146</td>\n",
       "      <td>7.237659</td>\n",
       "      <td>10.501995</td>\n",
       "      <td>7.314575</td>\n",
       "      <td>6.760666</td>\n",
       "      <td>7.269242</td>\n",
       "      <td>8.385940</td>\n",
       "      <td>6.888328</td>\n",
       "      <td>6.727363</td>\n",
       "      <td>7.306877</td>\n",
       "      <td>6.765464</td>\n",
       "      <td>7.483634</td>\n",
       "      <td>8.562655</td>\n",
       "    </tr>\n",
       "    <tr>\n",
       "      <th>1</th>\n",
       "      <td>GSM1539120_con</td>\n",
       "      <td>Normal</td>\n",
       "      <td>8.699967</td>\n",
       "      <td>8.194936</td>\n",
       "      <td>7.897531</td>\n",
       "      <td>9.035012</td>\n",
       "      <td>8.604370</td>\n",
       "      <td>7.478337</td>\n",
       "      <td>7.215443</td>\n",
       "      <td>10.235847</td>\n",
       "      <td>7.127705</td>\n",
       "      <td>6.725173</td>\n",
       "      <td>7.232673</td>\n",
       "      <td>8.533798</td>\n",
       "      <td>7.184849</td>\n",
       "      <td>6.702617</td>\n",
       "      <td>7.316006</td>\n",
       "      <td>6.777152</td>\n",
       "      <td>7.300943</td>\n",
       "      <td>8.610914</td>\n",
       "    </tr>\n",
       "    <tr>\n",
       "      <th>2</th>\n",
       "      <td>GSM1539121_con</td>\n",
       "      <td>Normal</td>\n",
       "      <td>8.325783</td>\n",
       "      <td>8.236834</td>\n",
       "      <td>8.105612</td>\n",
       "      <td>8.747281</td>\n",
       "      <td>8.577156</td>\n",
       "      <td>7.545336</td>\n",
       "      <td>7.259039</td>\n",
       "      <td>9.971817</td>\n",
       "      <td>7.505986</td>\n",
       "      <td>6.688136</td>\n",
       "      <td>7.348975</td>\n",
       "      <td>7.968376</td>\n",
       "      <td>7.113454</td>\n",
       "      <td>6.814376</td>\n",
       "      <td>6.993295</td>\n",
       "      <td>6.760981</td>\n",
       "      <td>7.493011</td>\n",
       "      <td>8.584417</td>\n",
       "    </tr>\n",
       "    <tr>\n",
       "      <th>3</th>\n",
       "      <td>GSM1539122_con</td>\n",
       "      <td>Normal</td>\n",
       "      <td>8.626391</td>\n",
       "      <td>8.220537</td>\n",
       "      <td>8.185611</td>\n",
       "      <td>8.784318</td>\n",
       "      <td>8.667452</td>\n",
       "      <td>7.610433</td>\n",
       "      <td>7.099580</td>\n",
       "      <td>10.328776</td>\n",
       "      <td>7.253972</td>\n",
       "      <td>6.675609</td>\n",
       "      <td>7.247410</td>\n",
       "      <td>7.980878</td>\n",
       "      <td>6.975176</td>\n",
       "      <td>6.751035</td>\n",
       "      <td>7.669748</td>\n",
       "      <td>6.756492</td>\n",
       "      <td>7.326599</td>\n",
       "      <td>8.542854</td>\n",
       "    </tr>\n",
       "    <tr>\n",
       "      <th>4</th>\n",
       "      <td>GSM1539123_con</td>\n",
       "      <td>Normal</td>\n",
       "      <td>8.650741</td>\n",
       "      <td>8.012726</td>\n",
       "      <td>7.832104</td>\n",
       "      <td>9.005201</td>\n",
       "      <td>8.614420</td>\n",
       "      <td>7.437102</td>\n",
       "      <td>6.994591</td>\n",
       "      <td>10.129801</td>\n",
       "      <td>7.270759</td>\n",
       "      <td>6.707308</td>\n",
       "      <td>7.216582</td>\n",
       "      <td>7.850519</td>\n",
       "      <td>6.869509</td>\n",
       "      <td>6.643639</td>\n",
       "      <td>7.341164</td>\n",
       "      <td>6.767811</td>\n",
       "      <td>7.406798</td>\n",
       "      <td>8.743702</td>\n",
       "    </tr>\n",
       "  </tbody>\n",
       "</table>\n",
       "</div>"
      ],
      "text/plain": [
       "               ID    Type     CISD1      G6PD    AKR1C3     HSBP1     ALOX5  \\\n",
       "0  GSM1539119_con  Normal  8.795816  8.273098  8.238499  8.706207  8.540995   \n",
       "1  GSM1539120_con  Normal  8.699967  8.194936  7.897531  9.035012  8.604370   \n",
       "2  GSM1539121_con  Normal  8.325783  8.236834  8.105612  8.747281  8.577156   \n",
       "3  GSM1539122_con  Normal  8.626391  8.220537  8.185611  8.784318  8.667452   \n",
       "4  GSM1539123_con  Normal  8.650741  8.012726  7.832104  9.005201  8.614420   \n",
       "\n",
       "       ACO1     PHKG2        PGD       GSS    STEAP3      GCLM     PEBP1  \\\n",
       "0  7.301146  7.237659  10.501995  7.314575  6.760666  7.269242  8.385940   \n",
       "1  7.478337  7.215443  10.235847  7.127705  6.725173  7.232673  8.533798   \n",
       "2  7.545336  7.259039   9.971817  7.505986  6.688136  7.348975  7.968376   \n",
       "3  7.610433  7.099580  10.328776  7.253972  6.675609  7.247410  7.980878   \n",
       "4  7.437102  6.994591  10.129801  7.270759  6.707308  7.216582  7.850519   \n",
       "\n",
       "        CBS     AIFM2    ALOX12     ABCC1     KEAP1        CS  \n",
       "0  6.888328  6.727363  7.306877  6.765464  7.483634  8.562655  \n",
       "1  7.184849  6.702617  7.316006  6.777152  7.300943  8.610914  \n",
       "2  7.113454  6.814376  6.993295  6.760981  7.493011  8.584417  \n",
       "3  6.975176  6.751035  7.669748  6.756492  7.326599  8.542854  \n",
       "4  6.869509  6.643639  7.341164  6.767811  7.406798  8.743702  "
      ]
     },
     "execution_count": 69,
     "metadata": {},
     "output_type": "execute_result"
    }
   ],
   "source": [
    "df = pd.read_csv('input.csv',delim_whitespace=True)\n",
    "df.head()\n",
    "\n"
   ]
  },
  {
   "cell_type": "code",
   "execution_count": 70,
   "metadata": {},
   "outputs": [],
   "source": [
    "df =  df[df.columns].replace({'Tumor':1, 'Normal':0, })\n"
   ]
  },
  {
   "cell_type": "code",
   "execution_count": 71,
   "metadata": {},
   "outputs": [
    {
     "name": "stdout",
     "output_type": "stream",
     "text": [
      "<class 'pandas.core.frame.DataFrame'>\n",
      "RangeIndex: 716 entries, 0 to 715\n",
      "Data columns (total 20 columns):\n",
      " #   Column  Non-Null Count  Dtype  \n",
      "---  ------  --------------  -----  \n",
      " 0   ID      716 non-null    object \n",
      " 1   Type    716 non-null    int64  \n",
      " 2   CISD1   716 non-null    float64\n",
      " 3   G6PD    716 non-null    float64\n",
      " 4   AKR1C3  716 non-null    float64\n",
      " 5   HSBP1   716 non-null    float64\n",
      " 6   ALOX5   716 non-null    float64\n",
      " 7   ACO1    716 non-null    float64\n",
      " 8   PHKG2   716 non-null    float64\n",
      " 9   PGD     716 non-null    float64\n",
      " 10  GSS     716 non-null    float64\n",
      " 11  STEAP3  716 non-null    float64\n",
      " 12  GCLM    716 non-null    float64\n",
      " 13  PEBP1   716 non-null    float64\n",
      " 14  CBS     716 non-null    float64\n",
      " 15  AIFM2   716 non-null    float64\n",
      " 16  ALOX12  716 non-null    float64\n",
      " 17  ABCC1   716 non-null    float64\n",
      " 18  KEAP1   716 non-null    float64\n",
      " 19  CS      716 non-null    float64\n",
      "dtypes: float64(18), int64(1), object(1)\n",
      "memory usage: 112.0+ KB\n"
     ]
    }
   ],
   "source": [
    "df.info()"
   ]
  },
  {
   "cell_type": "code",
   "execution_count": 72,
   "metadata": {},
   "outputs": [
    {
     "name": "stdout",
     "output_type": "stream",
     "text": [
      "Optimization terminated successfully.\n",
      "         Current function value: 0.550709\n",
      "         Iterations 6\n",
      "                           Logit Regression Results                           \n",
      "==============================================================================\n",
      "Dep. Variable:                   Type   No. Observations:                  716\n",
      "Model:                          Logit   Df Residuals:                      698\n",
      "Method:                           MLE   Df Model:                           17\n",
      "Date:                Sun, 10 Jul 2022   Pseudo R-squ.:                  0.1352\n",
      "Time:                        21:01:46   Log-Likelihood:                -394.31\n",
      "converged:                       True   LL-Null:                       -455.97\n",
      "Covariance Type:            nonrobust   LLR p-value:                 3.563e-18\n",
      "==============================================================================\n",
      "                 coef    std err          z      P>|z|      [0.025      0.975]\n",
      "------------------------------------------------------------------------------\n",
      "CISD1         -1.6853      0.464     -3.632      0.000      -2.595      -0.776\n",
      "G6PD           1.0406      0.782      1.330      0.183      -0.493       2.574\n",
      "AKR1C3        -0.4540      0.264     -1.721      0.085      -0.971       0.063\n",
      "HSBP1         -1.6595      0.509     -3.262      0.001      -2.657      -0.662\n",
      "ALOX5          0.4647      0.858      0.542      0.588      -1.217       2.146\n",
      "ACO1           1.2000      0.800      1.500      0.134      -0.368       2.768\n",
      "PHKG2          1.0617      0.701      1.514      0.130      -0.313       2.436\n",
      "PGD           -1.1922      0.477     -2.497      0.013      -2.128      -0.257\n",
      "GSS            2.5334      0.857      2.956      0.003       0.853       4.213\n",
      "STEAP3         1.5011      1.255      1.196      0.232      -0.958       3.961\n",
      "GCLM           3.1088      0.948      3.279      0.001       1.251       4.967\n",
      "PEBP1         -1.2300      0.391     -3.142      0.002      -1.997      -0.463\n",
      "CBS            0.2202      0.343      0.642      0.521      -0.452       0.893\n",
      "AIFM2          0.3325      1.652      0.201      0.840      -2.905       3.570\n",
      "ALOX12        -0.1027      0.334     -0.308      0.758      -0.757       0.551\n",
      "ABCC1          1.3485      1.372      0.983      0.326      -1.341       4.038\n",
      "KEAP1         -1.8825      1.101     -1.710      0.087      -4.040       0.275\n",
      "CS            -2.8360      0.876     -3.237      0.001      -4.553      -1.119\n",
      "==============================================================================\n"
     ]
    }
   ],
   "source": [
    "import statsmodels.api as sm\n",
    "train_label = df.columns[1:2]\n",
    "\n",
    "train_cols = df.columns[2:]\n",
    "\n",
    "X_test = train_label\n",
    "y_test = train_cols\n",
    "\n",
    "logit = sm.Logit(df[train_label], df[train_cols])\n",
    "\n",
    "result = logit.fit()\n",
    "\n",
    "print(result.summary())"
   ]
  },
  {
   "cell_type": "code",
   "execution_count": 73,
   "metadata": {},
   "outputs": [],
   "source": [
    "from sklearn.preprocessing import OneHotEncoder \n",
    "enc = OneHotEncoder() \n",
    "\n",
    "# Encoding categorical features \n",
    "# categ = df[['AgeCategory', 'Race', 'GenHealth']]\n",
    "# encoded_categ = pd.DataFrame(enc.fit_transform(categ).toarray())\n",
    "\n",
    "#Likning the encoed_cateh with the df\n",
    "# df = pd.concat([df, encoded_categ], axis = 1)\n",
    "\n",
    "# Dropping the categorical features\n",
    "df0 = df.drop(columns = ['ID','G6PD','AKR1C3','HSBP1','ALOX5','ACO1','PHKG2','PGD','GSS','STEAP3','GCLM','PEBP1','CBS','AIFM2','ALOX12','ABCC1','KEAP1','CS'], axis = 1)\n",
    "df1 = df.drop(columns = ['ID','CISD1','AKR1C3','HSBP1','ALOX5','ACO1','PHKG2','PGD','GSS','STEAP3','GCLM','PEBP1','CBS','AIFM2','ALOX12','ABCC1','KEAP1','CS'], axis = 1)\n",
    "df2 = df.drop(columns = ['ID','CISD1','G6PD','HSBP1','ALOX5','ACO1','PHKG2','PGD','GSS','STEAP3','GCLM','PEBP1','CBS','AIFM2','ALOX12','ABCC1','KEAP1','CS'], axis = 1)\n",
    "df3 = df.drop(columns = ['ID','CISD1','G6PD','AKR1C3','ALOX5','ACO1','PHKG2','PGD','GSS','STEAP3','GCLM','PEBP1','CBS','AIFM2','ALOX12','ABCC1','KEAP1','CS'], axis = 1)\n",
    "df4 = df.drop(columns = ['ID','CISD1','G6PD','AKR1C3','HSBP1','ACO1','PHKG2','PGD','GSS','STEAP3','GCLM','PEBP1','CBS','AIFM2','ALOX12','ABCC1','KEAP1','CS'], axis = 1)\n",
    "df5 = df.drop(columns = ['ID','CISD1','G6PD','AKR1C3','HSBP1','ALOX5','PHKG2','PGD','GSS','STEAP3','GCLM','PEBP1','CBS','AIFM2','ALOX12','ABCC1','KEAP1','CS'], axis = 1)\n",
    "df6 = df.drop(columns = ['ID','CISD1','G6PD','AKR1C3','HSBP1','ALOX5','ACO1','PGD','GSS','STEAP3','GCLM','PEBP1','CBS','AIFM2','ALOX12','ABCC1','KEAP1','CS'], axis = 1)\n",
    "df7 = df.drop(columns = ['ID','CISD1','G6PD','AKR1C3','HSBP1','ALOX5','ACO1','PHKG2','GSS','STEAP3','GCLM','PEBP1','CBS','AIFM2','ALOX12','ABCC1','KEAP1','CS'], axis = 1)\n",
    "df8 = df.drop(columns = ['ID','CISD1','G6PD','AKR1C3','HSBP1','ALOX5','ACO1','PHKG2','PGD','STEAP3','GCLM','PEBP1','CBS','AIFM2','ALOX12','ABCC1','KEAP1','CS'], axis = 1)\n",
    "df9 = df.drop(columns = ['ID','CISD1','G6PD','AKR1C3','HSBP1','ALOX5','ACO1','PHKG2','PGD','GSS','GCLM','PEBP1','CBS','AIFM2','ALOX12','ABCC1','KEAP1','CS'], axis = 1)\n",
    "df10 = df.drop(columns = ['ID','CISD1','G6PD','AKR1C3','HSBP1','ALOX5','ACO1','PHKG2','PGD','GSS','STEAP3','PEBP1','CBS','AIFM2','ALOX12','ABCC1','KEAP1','CS'], axis = 1)\n",
    "df11 = df.drop(columns = ['ID','CISD1','G6PD','AKR1C3','HSBP1','ALOX5','ACO1','PHKG2','PGD','GSS','STEAP3','GCLM','CBS','AIFM2','ALOX12','ABCC1','KEAP1','CS'], axis = 1)\n",
    "df12 = df.drop(columns = ['ID','CISD1','G6PD','AKR1C3','HSBP1','ALOX5','ACO1','PHKG2','PGD','GSS','STEAP3','GCLM','PEBP1','AIFM2','ALOX12','ABCC1','KEAP1','CS'], axis = 1)\n",
    "df13 = df.drop(columns = ['ID','CISD1','G6PD','AKR1C3','HSBP1','ALOX5','ACO1','PHKG2','PGD','GSS','STEAP3','GCLM','PEBP1','CBS','ALOX12','ABCC1','KEAP1','CS'], axis = 1)\n",
    "df14 = df.drop(columns = ['ID','CISD1','G6PD','AKR1C3','HSBP1','ALOX5','ACO1','PHKG2','PGD','GSS','STEAP3','GCLM','PEBP1','CBS','AIFM2','ABCC1','KEAP1','CS'], axis = 1)\n",
    "df15 = df.drop(columns = ['ID','CISD1','G6PD','AKR1C3','HSBP1','ALOX5','ACO1','PHKG2','PGD','GSS','STEAP3','GCLM','PEBP1','CBS','AIFM2','ALOX12','KEAP1','CS'], axis = 1)\n",
    "df16 = df.drop(columns = ['ID','CISD1','G6PD','AKR1C3','HSBP1','ALOX5','ACO1','PHKG2','PGD','GSS','STEAP3','GCLM','PEBP1','CBS','AIFM2','ALOX12','ABCC1','CS'], axis = 1)\n",
    "df17 = df.drop(columns = ['ID','CISD1','G6PD','AKR1C3','HSBP1','ALOX5','ACO1','PHKG2','PGD','GSS','STEAP3','GCLM','PEBP1','CBS','AIFM2','ALOX12','ABCC1','KEAP1'], axis = 1)\n",
    "df18 = df.drop(columns = ['ID'], axis = 1)\n",
    "\n",
    "\n",
    "# CISD1         -1.6853      0.464     -3.632      0.000      -2.595      -0.776\n",
    "# HSBP1         -1.6595      0.509     -3.262      0.001      -2.657      -0.662\n",
    "# PGD           -1.1922      0.477     -2.497      0.013      -2.128      -0.257\n",
    "# GSS            2.5334      0.857      2.956      0.003       0.853       4.213\n",
    "# GCLM           3.1088      0.948      3.279      0.001       1.251       4.967\n",
    "# PEBP1         -1.2300      0.391     -3.142      0.002      -1.997      -0.463\n",
    "# CS            -2.8360      0.876     -3.237      0.001      -4.553      -1.119\n",
    "\n",
    "# df0 = df.drop(columns = ['ID','CISD1','G6PD','AKR1C3','HSBP1','ALOX5','ACO1','PHKG2','PGD','GSS','STEAP3','GCLM','PEBP1','CBS','AIFM2','ALOX12','ABCC1','KEAP1','CS'], axis = 1)\n",
    "# 1   Type    716 non-null    int64  \n",
    "#  2   CISD1   716 non-null    float64\n",
    "#  3   G6PD    716 non-null    float64\n",
    "#  4   AKR1C3  716 non-null    float64\n",
    "#  5   HSBP1   716 non-null    float64\n",
    "#  6   ALOX5   716 non-null    float64\n",
    "#  7   ACO1    716 non-null    float64\n",
    "#  8   PHKG2   716 non-null    float64\n",
    "#  9   PGD     716 non-null    float64\n",
    "#  10  GSS     716 non-null    float64\n",
    "#  11  STEAP3  716 non-null    float64\n",
    "#  12  GCLM    716 non-null    float64\n",
    "#  13  PEBP1   716 non-null    float64\n",
    "#  14  CBS     716 non-null    float64\n",
    "#  15  AIFM2   716 non-null    float64\n",
    "#  16  ALOX12  716 non-null    float64\n",
    "#  17  ABCC1   716 non-null    float64\n",
    "#  18  KEAP1   716 non-null    float64\n",
    "#  19  CS      716 non-null    float64\n",
    "\n",
    "\n"
   ]
  },
  {
   "cell_type": "code",
   "execution_count": 74,
   "metadata": {},
   "outputs": [
    {
     "name": "stdout",
     "output_type": "stream",
     "text": [
      "Shape of training feature: (572, 1)\n",
      "Shape of testing feature: (144, 1)\n",
      "Shape of training label: (572,)\n",
      "Shape of training label: (144,)\n"
     ]
    }
   ],
   "source": [
    "#Select Features\n",
    "features = df0.drop(columns =['Type'], axis = 1)\n",
    "\n",
    "#Select Target \n",
    "target = df0['Type']\n",
    "\n",
    "# Set Training and Testing Data\n",
    "from sklearn.model_selection import train_test_split\n",
    "X_train0, X_test0, y_train0, y_test0 = train_test_split(features, target, shuffle = True, test_size = .2, random_state = 44)\n",
    "\n",
    "\n",
    "print('Shape of training feature:', X_train0.shape)\n",
    "print('Shape of testing feature:', X_test0.shape)\n",
    "print('Shape of training label:', y_train0.shape)\n",
    "print('Shape of training label:', y_test0.shape)"
   ]
  },
  {
   "cell_type": "code",
   "execution_count": 75,
   "metadata": {},
   "outputs": [
    {
     "name": "stdout",
     "output_type": "stream",
     "text": [
      "Shape of training feature: (572, 1)\n",
      "Shape of testing feature: (144, 1)\n",
      "Shape of training label: (572,)\n",
      "Shape of training label: (144,)\n"
     ]
    }
   ],
   "source": [
    "#Select Features\n",
    "features = df1.drop(columns =['Type'], axis = 1)\n",
    "\n",
    "#Select Target \n",
    "target = df1['Type']\n",
    "\n",
    "# Set Training and Testing Data\n",
    "from sklearn.model_selection import train_test_split\n",
    "X_train1, X_test1, y_train1, y_test1 = train_test_split(features, target, shuffle = True, test_size = .2, random_state = 44)\n",
    "\n",
    "\n",
    "print('Shape of training feature:', X_train1.shape)\n",
    "print('Shape of testing feature:', X_test1.shape)\n",
    "print('Shape of training label:', y_train1.shape)\n",
    "print('Shape of training label:', y_test1.shape)"
   ]
  },
  {
   "cell_type": "code",
   "execution_count": 76,
   "metadata": {},
   "outputs": [
    {
     "name": "stdout",
     "output_type": "stream",
     "text": [
      "Shape of training feature: (572, 1)\n",
      "Shape of testing feature: (144, 1)\n",
      "Shape of training label: (572,)\n",
      "Shape of training label: (144,)\n"
     ]
    }
   ],
   "source": [
    "#Select Features\n",
    "features = df2.drop(columns =['Type'], axis = 1)\n",
    "\n",
    "#Select Target \n",
    "target = df2['Type']\n",
    "\n",
    "# Set Training and Testing Data\n",
    "from sklearn.model_selection import train_test_split\n",
    "X_train2, X_test2, y_train2, y_test2 = train_test_split(features, target, shuffle = True, test_size = .2, random_state = 44)\n",
    "\n",
    "\n",
    "print('Shape of training feature:', X_train2.shape)\n",
    "print('Shape of testing feature:', X_test2.shape)\n",
    "print('Shape of training label:', y_train2.shape)\n",
    "print('Shape of training label:', y_test2.shape)"
   ]
  },
  {
   "cell_type": "code",
   "execution_count": 77,
   "metadata": {},
   "outputs": [
    {
     "name": "stdout",
     "output_type": "stream",
     "text": [
      "Shape of training feature: (572, 1)\n",
      "Shape of testing feature: (144, 1)\n",
      "Shape of training label: (572,)\n",
      "Shape of training label: (144,)\n"
     ]
    }
   ],
   "source": [
    "#Select Features\n",
    "features = df3.drop(columns =['Type'], axis = 1)\n",
    "\n",
    "#Select Target \n",
    "target = df3['Type']\n",
    "\n",
    "# Set Training and Testing Data\n",
    "from sklearn.model_selection import train_test_split\n",
    "X_train3, X_test3, y_train3, y_test3 = train_test_split(features, target, shuffle = True, test_size = .2, random_state = 44)\n",
    "\n",
    "\n",
    "print('Shape of training feature:', X_train3.shape)\n",
    "print('Shape of testing feature:', X_test3.shape)\n",
    "print('Shape of training label:', y_train3.shape)\n",
    "print('Shape of training label:', y_test3.shape)"
   ]
  },
  {
   "cell_type": "code",
   "execution_count": 78,
   "metadata": {},
   "outputs": [
    {
     "name": "stdout",
     "output_type": "stream",
     "text": [
      "Shape of training feature: (572, 1)\n",
      "Shape of testing feature: (144, 1)\n",
      "Shape of training label: (572,)\n",
      "Shape of training label: (144,)\n"
     ]
    }
   ],
   "source": [
    "#Select Features\n",
    "features = df4.drop(columns =['Type'], axis = 1)\n",
    "\n",
    "#Select Target \n",
    "target = df4['Type']\n",
    "\n",
    "# Set Training and Testing Data\n",
    "from sklearn.model_selection import train_test_split\n",
    "X_train4, X_test4, y_train4, y_test4 = train_test_split(features, target, shuffle = True, test_size = .2, random_state = 44)\n",
    "\n",
    "\n",
    "print('Shape of training feature:', X_train4.shape)\n",
    "print('Shape of testing feature:', X_test4.shape)\n",
    "print('Shape of training label:', y_train4.shape)\n",
    "print('Shape of training label:', y_test4.shape)"
   ]
  },
  {
   "cell_type": "code",
   "execution_count": 79,
   "metadata": {},
   "outputs": [
    {
     "name": "stdout",
     "output_type": "stream",
     "text": [
      "Shape of training feature: (572, 1)\n",
      "Shape of testing feature: (144, 1)\n",
      "Shape of training label: (572,)\n",
      "Shape of training label: (144,)\n"
     ]
    }
   ],
   "source": [
    "#Select Features\n",
    "features = df5.drop(columns =['Type'], axis = 1)\n",
    "\n",
    "#Select Target \n",
    "target = df5['Type']\n",
    "\n",
    "# Set Training and Testing Data\n",
    "from sklearn.model_selection import train_test_split\n",
    "X_train5, X_test5, y_train5, y_test5 = train_test_split(features, target, shuffle = True, test_size = .2, random_state = 44)\n",
    "\n",
    "\n",
    "print('Shape of training feature:', X_train5.shape)\n",
    "print('Shape of testing feature:', X_test5.shape)\n",
    "print('Shape of training label:', y_train5.shape)\n",
    "print('Shape of training label:', y_test5.shape)"
   ]
  },
  {
   "cell_type": "code",
   "execution_count": 80,
   "metadata": {},
   "outputs": [
    {
     "name": "stdout",
     "output_type": "stream",
     "text": [
      "Shape of training feature: (572, 1)\n",
      "Shape of testing feature: (144, 1)\n",
      "Shape of training label: (572,)\n",
      "Shape of training label: (144,)\n"
     ]
    }
   ],
   "source": [
    "#Select Features\n",
    "features = df6.drop(columns =['Type'], axis = 1)\n",
    "\n",
    "#Select Target\n",
    "target = df6['Type']\n",
    "\n",
    "# Set Training and Testing Data\n",
    "from sklearn.model_selection import train_test_split\n",
    "X_train6, X_test6, y_train6, y_test6 = train_test_split(features, target, shuffle = True, test_size = .2, random_state = 44)\n",
    "\n",
    "\n",
    "print('Shape of training feature:', X_train6.shape)\n",
    "print('Shape of testing feature:', X_test6.shape)\n",
    "print('Shape of training label:', y_train6.shape)\n",
    "print('Shape of training label:', y_test6.shape)"
   ]
  },
  {
   "cell_type": "code",
   "execution_count": 81,
   "metadata": {},
   "outputs": [
    {
     "name": "stdout",
     "output_type": "stream",
     "text": [
      "Shape of training feature: (572, 1)\n",
      "Shape of testing feature: (144, 1)\n",
      "Shape of training label: (572,)\n",
      "Shape of training label: (144,)\n"
     ]
    }
   ],
   "source": [
    "#Select Features\n",
    "features = df7.drop(columns =['Type'], axis = 1)\n",
    "\n",
    "#Select Target\n",
    "target = df7['Type']\n",
    "\n",
    "# Set Training and Testing Data\n",
    "from sklearn.model_selection import train_test_split\n",
    "X_train7, X_test7, y_train7, y_test7 = train_test_split(features, target, shuffle = True, test_size = .2, random_state = 44)\n",
    "\n",
    "\n",
    "print('Shape of training feature:', X_train7.shape)\n",
    "print('Shape of testing feature:', X_test7.shape)\n",
    "print('Shape of training label:', y_train7.shape)\n",
    "print('Shape of training label:', y_test7.shape)"
   ]
  },
  {
   "cell_type": "code",
   "execution_count": 82,
   "metadata": {},
   "outputs": [
    {
     "name": "stdout",
     "output_type": "stream",
     "text": [
      "Shape of training feature: (572, 1)\n",
      "Shape of testing feature: (144, 1)\n",
      "Shape of training label: (572,)\n",
      "Shape of training label: (144,)\n"
     ]
    }
   ],
   "source": [
    "#Select Features\n",
    "features = df8.drop(columns =['Type'], axis = 1)\n",
    "\n",
    "#Select Target \n",
    "target = df8['Type']\n",
    "\n",
    "# Set Training and Testing Data\n",
    "from sklearn.model_selection import train_test_split\n",
    "X_train8, X_test8, y_train8, y_test8 = train_test_split(features, target, shuffle = True, test_size = .2, random_state = 44)\n",
    "\n",
    "\n",
    "print('Shape of training feature:', X_train8.shape)\n",
    "print('Shape of testing feature:', X_test8.shape)\n",
    "print('Shape of training label:', y_train8.shape)\n",
    "print('Shape of training label:', y_test8.shape)"
   ]
  },
  {
   "cell_type": "code",
   "execution_count": 83,
   "metadata": {},
   "outputs": [
    {
     "name": "stdout",
     "output_type": "stream",
     "text": [
      "Shape of training feature: (572, 1)\n",
      "Shape of testing feature: (144, 1)\n",
      "Shape of training label: (572,)\n",
      "Shape of training label: (144,)\n"
     ]
    }
   ],
   "source": [
    "#Select Features\n",
    "features = df9.drop(columns =['Type'], axis = 1)\n",
    "\n",
    "#Select Target \n",
    "target = df9['Type']\n",
    "\n",
    "# Set Training and Testing Data\n",
    "from sklearn.model_selection import train_test_split\n",
    "X_train9, X_test9, y_train9, y_test9 = train_test_split(features, target, shuffle = True, test_size = .2, random_state = 44)\n",
    "\n",
    "\n",
    "print('Shape of training feature:', X_train9.shape)\n",
    "print('Shape of testing feature:', X_test9.shape)\n",
    "print('Shape of training label:', y_train9.shape)\n",
    "print('Shape of training label:', y_test9.shape)"
   ]
  },
  {
   "cell_type": "code",
   "execution_count": 84,
   "metadata": {},
   "outputs": [
    {
     "name": "stdout",
     "output_type": "stream",
     "text": [
      "Shape of training feature: (572, 1)\n",
      "Shape of testing feature: (144, 1)\n",
      "Shape of training label: (572,)\n",
      "Shape of training label: (144,)\n"
     ]
    }
   ],
   "source": [
    "#Select Features\n",
    "features = df10.drop(columns =['Type'], axis = 1)\n",
    "\n",
    "#Select Target \n",
    "target = df10['Type']\n",
    "\n",
    "# Set Training and Testing Data\n",
    "from sklearn.model_selection import train_test_split\n",
    "X_train10, X_test10, y_train10, y_test10 = train_test_split(features, target, shuffle = True, test_size = .2, random_state = 44)\n",
    "\n",
    "\n",
    "print('Shape of training feature:', X_train10.shape)\n",
    "print('Shape of testing feature:', X_test10.shape)\n",
    "print('Shape of training label:', y_train10.shape)\n",
    "print('Shape of training label:', y_test10.shape)"
   ]
  },
  {
   "cell_type": "code",
   "execution_count": 85,
   "metadata": {},
   "outputs": [
    {
     "name": "stdout",
     "output_type": "stream",
     "text": [
      "Shape of training feature: (572, 1)\n",
      "Shape of testing feature: (144, 1)\n",
      "Shape of training label: (572,)\n",
      "Shape of training label: (144,)\n"
     ]
    }
   ],
   "source": [
    "#Select Features\n",
    "features = df11.drop(columns =['Type'], axis = 1)\n",
    "\n",
    "#Select Target \n",
    "target = df11['Type']\n",
    "\n",
    "# Set Training and Testing Data\n",
    "from sklearn.model_selection import train_test_split\n",
    "X_train11, X_test11, y_train11, y_test11 = train_test_split(features, target, shuffle = True, test_size = .2, random_state = 44)\n",
    "\n",
    "\n",
    "print('Shape of training feature:', X_train11.shape)\n",
    "print('Shape of testing feature:', X_test11.shape)\n",
    "print('Shape of training label:', y_train11.shape)\n",
    "print('Shape of training label:', y_test11.shape)"
   ]
  },
  {
   "cell_type": "code",
   "execution_count": 86,
   "metadata": {},
   "outputs": [
    {
     "name": "stdout",
     "output_type": "stream",
     "text": [
      "Shape of training feature: (572, 1)\n",
      "Shape of testing feature: (144, 1)\n",
      "Shape of training label: (572,)\n",
      "Shape of training label: (144,)\n"
     ]
    }
   ],
   "source": [
    "#Select Features\n",
    "features = df12.drop(columns =['Type'], axis = 1)\n",
    "\n",
    "#Select Target \n",
    "target = df12['Type']\n",
    "\n",
    "# Set Training and Testing Data\n",
    "from sklearn.model_selection import train_test_split\n",
    "X_train12, X_test12, y_train12, y_test12 = train_test_split(features, target, shuffle = True, test_size = .2, random_state = 44)\n",
    "\n",
    "\n",
    "print('Shape of training feature:', X_train12.shape)\n",
    "print('Shape of testing feature:', X_test12.shape)\n",
    "print('Shape of training label:', y_train12.shape)\n",
    "print('Shape of training label:', y_test12.shape)"
   ]
  },
  {
   "cell_type": "code",
   "execution_count": 87,
   "metadata": {},
   "outputs": [
    {
     "name": "stdout",
     "output_type": "stream",
     "text": [
      "Shape of training feature: (572, 1)\n",
      "Shape of testing feature: (144, 1)\n",
      "Shape of training label: (572,)\n",
      "Shape of training label: (144,)\n"
     ]
    }
   ],
   "source": [
    "#Select Features\n",
    "features = df13.drop(columns =['Type'], axis = 1)\n",
    "\n",
    "#Select Target \n",
    "target = df13['Type']\n",
    "\n",
    "# Set Training and Testing Data\n",
    "from sklearn.model_selection import train_test_split\n",
    "X_train13, X_test13, y_train13, y_test13 = train_test_split(features, target, shuffle = True, test_size = .2, random_state = 44)\n",
    "\n",
    "\n",
    "print('Shape of training feature:', X_train13.shape)\n",
    "print('Shape of testing feature:', X_test13.shape)\n",
    "print('Shape of training label:', y_train13.shape)\n",
    "print('Shape of training label:', y_test13.shape)"
   ]
  },
  {
   "cell_type": "code",
   "execution_count": 88,
   "metadata": {},
   "outputs": [
    {
     "name": "stdout",
     "output_type": "stream",
     "text": [
      "Shape of training feature: (572, 1)\n",
      "Shape of testing feature: (144, 1)\n",
      "Shape of training label: (572,)\n",
      "Shape of training label: (144,)\n"
     ]
    }
   ],
   "source": [
    "#Select Features\n",
    "features = df14.drop(columns =['Type'], axis = 1)\n",
    "\n",
    "#Select Target\n",
    "target = df14['Type']\n",
    "\n",
    "# Set Training and Testing Data\n",
    "from sklearn.model_selection import train_test_split\n",
    "X_train14, X_test14, y_train14, y_test14 = train_test_split(features, target, shuffle = True, test_size = .2, random_state = 44)\n",
    "\n",
    "\n",
    "print('Shape of training feature:', X_train14.shape)\n",
    "print('Shape of testing feature:', X_test14.shape)\n",
    "print('Shape of training label:', y_train14.shape)\n",
    "print('Shape of training label:', y_test14.shape)"
   ]
  },
  {
   "cell_type": "code",
   "execution_count": 89,
   "metadata": {},
   "outputs": [
    {
     "name": "stdout",
     "output_type": "stream",
     "text": [
      "Shape of training feature: (572, 1)\n",
      "Shape of testing feature: (144, 1)\n",
      "Shape of training label: (572,)\n",
      "Shape of training label: (144,)\n"
     ]
    }
   ],
   "source": [
    "#Select Features\n",
    "features = df15.drop(columns =['Type'], axis = 1)\n",
    "\n",
    "#Select Target \n",
    "target = df15['Type']\n",
    "\n",
    "# Set Training and Testing Data\n",
    "from sklearn.model_selection import train_test_split\n",
    "X_train15, X_test15, y_train15, y_test15 = train_test_split(features, target, shuffle = True, test_size = .2, random_state = 44)\n",
    "\n",
    "\n",
    "print('Shape of training feature:', X_train15.shape)\n",
    "print('Shape of testing feature:', X_test15.shape)\n",
    "print('Shape of training label:', y_train15.shape)\n",
    "print('Shape of training label:', y_test15.shape)"
   ]
  },
  {
   "cell_type": "code",
   "execution_count": 90,
   "metadata": {},
   "outputs": [
    {
     "name": "stdout",
     "output_type": "stream",
     "text": [
      "Shape of training feature: (572, 1)\n",
      "Shape of testing feature: (144, 1)\n",
      "Shape of training label: (572,)\n",
      "Shape of training label: (144,)\n"
     ]
    }
   ],
   "source": [
    "#Select Features\n",
    "features = df16.drop(columns =['Type'], axis = 1)\n",
    "\n",
    "#Select Target \n",
    "target = df16['Type']\n",
    "\n",
    "# Set Training and Testing Data\n",
    "from sklearn.model_selection import train_test_split\n",
    "X_train16, X_test16, y_train16, y_test16 = train_test_split(features, target, shuffle = True, test_size = .2, random_state = 44)\n",
    "\n",
    "\n",
    "print('Shape of training feature:', X_train16.shape)\n",
    "print('Shape of testing feature:', X_test16.shape)\n",
    "print('Shape of training label:', y_train16.shape)\n",
    "print('Shape of training label:', y_test16.shape)"
   ]
  },
  {
   "cell_type": "code",
   "execution_count": 91,
   "metadata": {},
   "outputs": [
    {
     "name": "stdout",
     "output_type": "stream",
     "text": [
      "Shape of training feature: (572, 1)\n",
      "Shape of testing feature: (144, 1)\n",
      "Shape of training label: (572,)\n",
      "Shape of training label: (144,)\n"
     ]
    }
   ],
   "source": [
    "#Select Features\n",
    "features = df17.drop(columns =['Type'], axis = 1)\n",
    "\n",
    "#Select Target \n",
    "target = df17['Type']\n",
    "\n",
    "# Set Training and Testing Data\n",
    "from sklearn.model_selection import train_test_split\n",
    "X_train17, X_test17, y_train17, y_test17 = train_test_split(features, target, shuffle = True, test_size = .2, random_state = 44)\n",
    "\n",
    "\n",
    "print('Shape of training feature:', X_train17.shape)\n",
    "print('Shape of testing feature:', X_test17.shape)\n",
    "print('Shape of training label:', y_train17.shape)\n",
    "print('Shape of training label:', y_test17.shape)"
   ]
  },
  {
   "cell_type": "code",
   "execution_count": 92,
   "metadata": {},
   "outputs": [
    {
     "name": "stdout",
     "output_type": "stream",
     "text": [
      "Shape of training feature: (572, 18)\n",
      "Shape of testing feature: (144, 18)\n",
      "Shape of training label: (572,)\n",
      "Shape of training label: (144,)\n"
     ]
    }
   ],
   "source": [
    "#Select Features\n",
    "features = df18.drop(columns =['Type'], axis = 1)\n",
    "\n",
    "#Select Target \n",
    "target = df18['Type']\n",
    "\n",
    "# Set Training and Testing Data\n",
    "from sklearn.model_selection import train_test_split\n",
    "X_train18, X_test18, y_train18, y_test18 = train_test_split(features, target, shuffle = True, test_size = .2, random_state = 44)\n",
    "\n",
    "\n",
    "print('Shape of training feature:', X_train18.shape)\n",
    "print('Shape of testing feature:', X_test18.shape)\n",
    "print('Shape of training label:', y_train18.shape)\n",
    "print('Shape of training label:', y_test18.shape)"
   ]
  },
  {
   "cell_type": "markdown",
   "metadata": {},
   "source": [
    "建模"
   ]
  },
  {
   "cell_type": "code",
   "execution_count": 93,
   "metadata": {},
   "outputs": [],
   "source": [
    "def evaluate_model(model, x_test, y_test):\n",
    "    from sklearn import metrics\n",
    "\n",
    "    # Predict Test Data \n",
    "    y_pred0 = model.predict(X_test0)\n",
    "\n",
    "    # Calculate accuracy, precision, recall, f1-score, and kappa score\n",
    "    acc = metrics.accuracy_score(y_test0, y_pred0)\n",
    "    prec = metrics.precision_score(y_test0, y_pred0)\n",
    "    rec = metrics.recall_score(y_test0, y_pred0)\n",
    "    f1 = metrics.f1_score(y_test0, y_pred0)\n",
    "    kappa = metrics.cohen_kappa_score(y_test0, y_pred0)\n",
    "\n",
    "    # Calculate area under curve (AUC)\n",
    "    y_pred_proba0 = model.predict_proba(X_test0)[::,1]\n",
    "    fpr, tpr, _ = metrics.roc_curve(y_test0, y_pred_proba0)\n",
    "    auc = metrics.roc_auc_score(y_test0, y_pred_proba0)\n",
    "\n",
    "    # Display confussion matrix\n",
    "    cm = metrics.confusion_matrix(y_test0, y_pred0)\n",
    "\n",
    "    return {'acc': acc, 'prec': prec, 'rec': rec, 'f1': f1, 'kappa': kappa, \n",
    "            'fpr': fpr, 'tpr': tpr, 'auc': auc, 'cm': cm}"
   ]
  },
  {
   "cell_type": "code",
   "execution_count": 94,
   "metadata": {},
   "outputs": [
    {
     "name": "stdout",
     "output_type": "stream",
     "text": [
      "Accuracy: 0.6458333333333334\n",
      "Precision: 0.6538461538461539\n",
      "Recall: 0.9340659340659341\n",
      "F1 Score: 0.7692307692307693\n",
      "Cohens Kappa Score: 0.10044096031357175\n",
      "Area Under Curve: 0.6722993987144931\n",
      "Confusion Matrix:\n",
      " [[ 8 45]\n",
      " [ 6 85]]\n"
     ]
    }
   ],
   "source": [
    "LR0 = LogisticRegression()\n",
    "LR0.fit(X_train0, y_train0)\n",
    "\n",
    "LR_eval0 = evaluate_model(LR0, X_test0, y_test0)\n",
    "\n",
    "print('Accuracy:', LR_eval0['acc'])\n",
    "print('Precision:', LR_eval0['prec'])\n",
    "print('Recall:', LR_eval0['rec'])\n",
    "print('F1 Score:', LR_eval0['f1'])\n",
    "print('Cohens Kappa Score:', LR_eval0['kappa'])\n",
    "print('Area Under Curve:', LR_eval0['auc'])\n",
    "print('Confusion Matrix:\\n', LR_eval0['cm'])\n"
   ]
  },
  {
   "cell_type": "code",
   "execution_count": 95,
   "metadata": {},
   "outputs": [],
   "source": [
    "def evaluate_model(model, x_test, y_test):\n",
    "    from sklearn import metrics\n",
    "\n",
    "    # Predict Test Data \n",
    "    y_pred1 = model.predict(X_test1)\n",
    "\n",
    "    # Calculate accuracy, precision, recall, f1-score, and kappa score\n",
    "    acc = metrics.accuracy_score(y_test1, y_pred1)\n",
    "    prec = metrics.precision_score(y_test1, y_pred1)\n",
    "    rec = metrics.recall_score(y_test1, y_pred1)\n",
    "    f1 = metrics.f1_score(y_test1, y_pred1)\n",
    "    kappa = metrics.cohen_kappa_score(y_test1, y_pred1)\n",
    "\n",
    "    # Calculate area under curve (AUC)\n",
    "    y_pred_proba1 = model.predict_proba(X_test1)[::,1]\n",
    "    fpr, tpr, _ = metrics.roc_curve(y_test1, y_pred_proba1)\n",
    "    auc = metrics.roc_auc_score(y_test1, y_pred_proba1)\n",
    "\n",
    "    # Display confussion matrix\n",
    "    cm = metrics.confusion_matrix(y_test1, y_pred1)\n",
    "\n",
    "    return {'acc': acc, 'prec': prec, 'rec': rec, 'f1': f1, 'kappa': kappa, \n",
    "            'fpr': fpr, 'tpr': tpr, 'auc': auc, 'cm': cm}"
   ]
  },
  {
   "cell_type": "code",
   "execution_count": 96,
   "metadata": {},
   "outputs": [
    {
     "name": "stdout",
     "output_type": "stream",
     "text": [
      "Accuracy: 0.6111111111111112\n",
      "Precision: 0.624113475177305\n",
      "Recall: 0.967032967032967\n",
      "F1 Score: 0.7586206896551724\n",
      "Cohens Kappa Score: -0.041053446940356286\n",
      "Area Under Curve: 0.6749948165042504\n",
      "Confusion Matrix:\n",
      " [[ 0 53]\n",
      " [ 3 88]]\n"
     ]
    }
   ],
   "source": [
    "LR1 = LogisticRegression()\n",
    "LR1.fit(X_train1, y_train1)\n",
    "\n",
    "LR_eval1 = evaluate_model(LR1, X_test1, y_test1)\n",
    "\n",
    "print('Accuracy:', LR_eval1['acc'])\n",
    "print('Precision:', LR_eval1['prec'])\n",
    "print('Recall:', LR_eval1['rec'])\n",
    "print('F1 Score:', LR_eval1['f1'])\n",
    "print('Cohens Kappa Score:', LR_eval1['kappa'])\n",
    "print('Area Under Curve:', LR_eval1['auc'])\n",
    "print('Confusion Matrix:\\n', LR_eval1['cm'])\n"
   ]
  },
  {
   "cell_type": "code",
   "execution_count": 97,
   "metadata": {},
   "outputs": [],
   "source": [
    "def evaluate_model(model, x_test, y_test):\n",
    "    from sklearn import metrics\n",
    "\n",
    "    # Predict Test Data \n",
    "    y_pred2 = model.predict(X_test2)\n",
    "\n",
    "    # Calculate accuracy, precision, recall, f1-score, and kappa score\n",
    "    acc = metrics.accuracy_score(y_test2, y_pred2)\n",
    "    prec = metrics.precision_score(y_test2, y_pred2)\n",
    "    rec = metrics.recall_score(y_test2, y_pred2)\n",
    "    f1 = metrics.f1_score(y_test2, y_pred2)\n",
    "    kappa = metrics.cohen_kappa_score(y_test2, y_pred2)\n",
    "\n",
    "    # Calculate area under curve (AUC)\n",
    "    y_pred_proba2 = model.predict_proba(X_test2)[::,1]\n",
    "    fpr, tpr, _ = metrics.roc_curve(y_test2, y_pred_proba2)\n",
    "    auc = metrics.roc_auc_score(y_test2, y_pred_proba2)\n",
    "\n",
    "    # Display confussion matrix\n",
    "    cm = metrics.confusion_matrix(y_test2, y_pred2)\n",
    "\n",
    "    return {'acc': acc, 'prec': prec, 'rec': rec, 'f1': f1, 'kappa': kappa, \n",
    "            'fpr': fpr, 'tpr': tpr, 'auc': auc, 'cm': cm}"
   ]
  },
  {
   "cell_type": "code",
   "execution_count": 98,
   "metadata": {},
   "outputs": [
    {
     "name": "stdout",
     "output_type": "stream",
     "text": [
      "Accuracy: 0.6458333333333334\n",
      "Precision: 0.644927536231884\n",
      "Recall: 0.978021978021978\n",
      "F1 Score: 0.7772925764192139\n",
      "Cohens Kappa Score: 0.06564885496183193\n",
      "Area Under Curve: 0.6009744972009123\n",
      "Confusion Matrix:\n",
      " [[ 4 49]\n",
      " [ 2 89]]\n"
     ]
    }
   ],
   "source": [
    "LR2 = LogisticRegression()\n",
    "LR2.fit(X_train2, y_train2)\n",
    "\n",
    "LR_eval2 = evaluate_model(LR2, X_test2, y_test2)\n",
    "\n",
    "print('Accuracy:', LR_eval2['acc'])\n",
    "print('Precision:', LR_eval2['prec'])\n",
    "print('Recall:', LR_eval2['rec'])\n",
    "print('F1 Score:', LR_eval2['f1'])\n",
    "print('Cohens Kappa Score:', LR_eval2['kappa'])\n",
    "print('Area Under Curve:', LR_eval2['auc'])\n",
    "print('Confusion Matrix:\\n', LR_eval2['cm'])\n"
   ]
  },
  {
   "cell_type": "code",
   "execution_count": 99,
   "metadata": {},
   "outputs": [],
   "source": [
    "def evaluate_model(model, x_test, y_test):\n",
    "    from sklearn import metrics\n",
    "\n",
    "    # Predict Test Data \n",
    "    y_pred3 = model.predict(X_test3)\n",
    "\n",
    "    # Calculate accuracy, precision, recall, f1-score, and kappa score\n",
    "    acc = metrics.accuracy_score(y_test3, y_pred3)\n",
    "    prec = metrics.precision_score(y_test3, y_pred3)\n",
    "    rec = metrics.recall_score(y_test3, y_pred3)\n",
    "    f1 = metrics.f1_score(y_test3, y_pred3)\n",
    "    kappa = metrics.cohen_kappa_score(y_test3, y_pred3)\n",
    "\n",
    "    # Calculate area under curve (AUC)\n",
    "    y_pred_proba3 = model.predict_proba(X_test3)[::,1]\n",
    "    fpr, tpr, _ = metrics.roc_curve(y_test3, y_pred_proba3)\n",
    "    auc = metrics.roc_auc_score(y_test3, y_pred_proba3)\n",
    "\n",
    "    # Display confussion matrix\n",
    "    cm = metrics.confusion_matrix(y_test3, y_pred3)\n",
    "\n",
    "    return {'acc': acc, 'prec': prec, 'rec': rec, 'f1': f1, 'kappa': kappa, \n",
    "            'fpr': fpr, 'tpr': tpr, 'auc': auc, 'cm': cm}"
   ]
  },
  {
   "cell_type": "code",
   "execution_count": 100,
   "metadata": {},
   "outputs": [
    {
     "name": "stdout",
     "output_type": "stream",
     "text": [
      "Accuracy: 0.6319444444444444\n",
      "Precision: 0.6357142857142857\n",
      "Recall: 0.978021978021978\n",
      "F1 Score: 0.7705627705627704\n",
      "Cohens Kappa Score: 0.019527235354573458\n",
      "Area Under Curve: 0.5843873108024051\n",
      "Confusion Matrix:\n",
      " [[ 2 51]\n",
      " [ 2 89]]\n"
     ]
    }
   ],
   "source": [
    "LR3 = LogisticRegression()\n",
    "LR3.fit(X_train3, y_train3)\n",
    "\n",
    "LR_eval3 = evaluate_model(LR3, X_test3, y_test3)\n",
    "\n",
    "print('Accuracy:', LR_eval3['acc'])\n",
    "print('Precision:', LR_eval3['prec'])\n",
    "print('Recall:', LR_eval3['rec'])\n",
    "print('F1 Score:', LR_eval3['f1'])\n",
    "print('Cohens Kappa Score:', LR_eval3['kappa'])\n",
    "print('Area Under Curve:', LR_eval3['auc'])\n",
    "print('Confusion Matrix:\\n', LR_eval3['cm'])\n"
   ]
  },
  {
   "cell_type": "code",
   "execution_count": 101,
   "metadata": {},
   "outputs": [],
   "source": [
    "def evaluate_model(model, x_test, y_test):\n",
    "    from sklearn import metrics\n",
    "\n",
    "    # Predict Test Data \n",
    "    y_pred4 = model.predict(X_test4)\n",
    "\n",
    "    # Calculate accuracy, precision, recall, f1-score, and kappa score\n",
    "    acc = metrics.accuracy_score(y_test4, y_pred4)\n",
    "    prec = metrics.precision_score(y_test4, y_pred4)\n",
    "    rec = metrics.recall_score(y_test4, y_pred4)\n",
    "    f1 = metrics.f1_score(y_test4, y_pred4)\n",
    "    kappa = metrics.cohen_kappa_score(y_test4, y_pred4)\n",
    "\n",
    "    # Calculate area under curve (AUC)\n",
    "    y_pred_proba4 = model.predict_proba(X_test4)[::,1]\n",
    "    fpr, tpr, _ = metrics.roc_curve(y_test4, y_pred_proba4)\n",
    "    auc = metrics.roc_auc_score(y_test4, y_pred_proba4)\n",
    "\n",
    "    # Display confussion matrix\n",
    "    cm = metrics.confusion_matrix(y_test4, y_pred4)\n",
    "\n",
    "    return {'acc': acc, 'prec': prec, 'rec': rec, 'f1': f1, 'kappa': kappa, \n",
    "            'fpr': fpr, 'tpr': tpr, 'auc': auc, 'cm': cm}"
   ]
  },
  {
   "cell_type": "code",
   "execution_count": 102,
   "metadata": {},
   "outputs": [
    {
     "name": "stdout",
     "output_type": "stream",
     "text": [
      "Accuracy: 0.6180555555555556\n",
      "Precision: 0.6267605633802817\n",
      "Recall: 0.978021978021978\n",
      "F1 Score: 0.7639484978540774\n",
      "Cohens Kappa Score: -0.02750389206019732\n",
      "Area Under Curve: 0.6247149077337757\n",
      "Confusion Matrix:\n",
      " [[ 0 53]\n",
      " [ 2 89]]\n"
     ]
    }
   ],
   "source": [
    "LR4 = LogisticRegression()\n",
    "LR4.fit(X_train4, y_train4)\n",
    "\n",
    "LR_eval4 = evaluate_model(LR4, X_test4, y_test4)\n",
    "\n",
    "print('Accuracy:', LR_eval4['acc'])\n",
    "print('Precision:', LR_eval4['prec'])\n",
    "print('Recall:', LR_eval4['rec'])\n",
    "print('F1 Score:', LR_eval4['f1'])\n",
    "print('Cohens Kappa Score:', LR_eval4['kappa'])\n",
    "print('Area Under Curve:', LR_eval4['auc'])\n",
    "print('Confusion Matrix:\\n', LR_eval4['cm'])\n"
   ]
  },
  {
   "cell_type": "code",
   "execution_count": 103,
   "metadata": {},
   "outputs": [],
   "source": [
    "def evaluate_model(model, x_test, y_test):\n",
    "    from sklearn import metrics\n",
    "\n",
    "    # Predict Test Data \n",
    "    y_pred5 = model.predict(X_test5)\n",
    "\n",
    "    # Calculate accuracy, precision, recall, f1-score, and kappa score\n",
    "    acc = metrics.accuracy_score(y_test5, y_pred5)\n",
    "    prec = metrics.precision_score(y_test5, y_pred5)\n",
    "    rec = metrics.recall_score(y_test5, y_pred5)\n",
    "    f1 = metrics.f1_score(y_test5, y_pred5)\n",
    "    kappa = metrics.cohen_kappa_score(y_test5, y_pred5)\n",
    "\n",
    "    # Calculate area under curve (AUC)\n",
    "    y_pred_proba5 = model.predict_proba(X_test5)[::,1]\n",
    "    fpr, tpr, _ = metrics.roc_curve(y_test5, y_pred_proba5)\n",
    "    auc = metrics.roc_auc_score(y_test5, y_pred_proba5)\n",
    "\n",
    "    # Display confussion matrix\n",
    "    cm = metrics.confusion_matrix(y_test5, y_pred5)\n",
    "\n",
    "    return {'acc': acc, 'prec': prec, 'rec': rec, 'f1': f1, 'kappa': kappa, \n",
    "            'fpr': fpr, 'tpr': tpr, 'auc': auc, 'cm': cm}"
   ]
  },
  {
   "cell_type": "code",
   "execution_count": 104,
   "metadata": {},
   "outputs": [
    {
     "name": "stdout",
     "output_type": "stream",
     "text": [
      "Accuracy: 0.6319444444444444\n",
      "Precision: 0.6319444444444444\n",
      "Recall: 1.0\n",
      "F1 Score: 0.774468085106383\n",
      "Cohens Kappa Score: 0.0\n",
      "Area Under Curve: 0.624300228073813\n",
      "Confusion Matrix:\n",
      " [[ 0 53]\n",
      " [ 0 91]]\n"
     ]
    }
   ],
   "source": [
    "LR5 = LogisticRegression()\n",
    "LR5.fit(X_train5, y_train5)\n",
    "\n",
    "LR_eval5 = evaluate_model(LR5, X_test5, y_test5)\n",
    "\n",
    "print('Accuracy:', LR_eval5['acc'])\n",
    "print('Precision:', LR_eval5['prec'])\n",
    "print('Recall:', LR_eval5['rec'])\n",
    "print('F1 Score:', LR_eval5['f1'])\n",
    "print('Cohens Kappa Score:', LR_eval5['kappa'])\n",
    "print('Area Under Curve:', LR_eval5['auc'])\n",
    "print('Confusion Matrix:\\n', LR_eval5['cm'])\n"
   ]
  },
  {
   "cell_type": "code",
   "execution_count": 105,
   "metadata": {},
   "outputs": [],
   "source": [
    "def evaluate_model(model, x_test, y_test):\n",
    "    from sklearn import metrics\n",
    "\n",
    "    # Predict Test Data \n",
    "    y_pred6 = model.predict(X_test6)\n",
    "\n",
    "    # Calculate accuracy, precision, recall, f1-score, and kappa score\n",
    "    acc = metrics.accuracy_score(y_test6, y_pred6)\n",
    "    prec = metrics.precision_score(y_test6, y_pred6)\n",
    "    rec = metrics.recall_score(y_test6, y_pred6)\n",
    "    f1 = metrics.f1_score(y_test6, y_pred6)\n",
    "    kappa = metrics.cohen_kappa_score(y_test6, y_pred6)\n",
    "\n",
    "    # Calculate area under curve (AUC)\n",
    "    y_pred_proba6 = model.predict_proba(X_test6)[::,1]\n",
    "    fpr, tpr, _ = metrics.roc_curve(y_test6, y_pred_proba6)\n",
    "    auc = metrics.roc_auc_score(y_test6, y_pred_proba6)\n",
    "\n",
    "    # Display confussion matrix\n",
    "    cm = metrics.confusion_matrix(y_test6, y_pred6)\n",
    "\n",
    "    return {'acc': acc, 'prec': prec, 'rec': rec, 'f1': f1, 'kappa': kappa, \n",
    "            'fpr': fpr, 'tpr': tpr, 'auc': auc, 'cm': cm}"
   ]
  },
  {
   "cell_type": "code",
   "execution_count": 106,
   "metadata": {},
   "outputs": [
    {
     "name": "stdout",
     "output_type": "stream",
     "text": [
      "Accuracy: 0.6458333333333334\n",
      "Precision: 0.6408450704225352\n",
      "Recall: 1.0\n",
      "F1 Score: 0.7811158798283262\n",
      "Cohens Kappa Score: 0.04722366372599884\n",
      "Area Under Curve: 0.5871863985071533\n",
      "Confusion Matrix:\n",
      " [[ 2 51]\n",
      " [ 0 91]]\n"
     ]
    }
   ],
   "source": [
    "LR6 = LogisticRegression()\n",
    "LR6.fit(X_train6, y_train6)\n",
    "\n",
    "LR_eval6 = evaluate_model(LR6, X_test6, y_test6)\n",
    "\n",
    "print('Accuracy:', LR_eval6['acc'])\n",
    "print('Precision:', LR_eval6['prec'])\n",
    "print('Recall:', LR_eval6['rec'])\n",
    "print('F1 Score:', LR_eval6['f1'])\n",
    "print('Cohens Kappa Score:', LR_eval6['kappa'])\n",
    "print('Area Under Curve:', LR_eval6['auc'])\n",
    "print('Confusion Matrix:\\n', LR_eval6['cm'])\n"
   ]
  },
  {
   "cell_type": "code",
   "execution_count": 107,
   "metadata": {},
   "outputs": [],
   "source": [
    "def evaluate_model(model, x_test, y_test):\n",
    "    from sklearn import metrics\n",
    "\n",
    "    # Predict Test Data \n",
    "    y_pred7 = model.predict(X_test7)\n",
    "\n",
    "    # Calculate accuracy, precision, recall, f1-score, and kappa score\n",
    "    acc = metrics.accuracy_score(y_test7, y_pred7)\n",
    "    prec = metrics.precision_score(y_test7, y_pred7)\n",
    "    rec = metrics.recall_score(y_test7, y_pred7)\n",
    "    f1 = metrics.f1_score(y_test7, y_pred7)\n",
    "    kappa = metrics.cohen_kappa_score(y_test7, y_pred7)\n",
    "\n",
    "    # Calculate area under curve (AUC)\n",
    "    y_pred_proba7 = model.predict_proba(X_test7)[::,1]\n",
    "    fpr, tpr, _ = metrics.roc_curve(y_test7, y_pred_proba7)\n",
    "    auc = metrics.roc_auc_score(y_test7, y_pred_proba7)\n",
    "\n",
    "    # Display confussion matrix\n",
    "    cm = metrics.confusion_matrix(y_test7, y_pred7)\n",
    "\n",
    "    return {'acc': acc, 'prec': prec, 'rec': rec, 'f1': f1, 'kappa': kappa, \n",
    "            'fpr': fpr, 'tpr': tpr, 'auc': auc, 'cm': cm}"
   ]
  },
  {
   "cell_type": "code",
   "execution_count": 108,
   "metadata": {},
   "outputs": [
    {
     "name": "stdout",
     "output_type": "stream",
     "text": [
      "Accuracy: 0.6319444444444444\n",
      "Precision: 0.6338028169014085\n",
      "Recall: 0.989010989010989\n",
      "F1 Score: 0.7725321888412018\n",
      "Cohens Kappa Score: 0.009859885832900761\n",
      "Area Under Curve: 0.6485589881816296\n",
      "Confusion Matrix:\n",
      " [[ 1 52]\n",
      " [ 1 90]]\n"
     ]
    }
   ],
   "source": [
    "LR7 = LogisticRegression()\n",
    "LR7.fit(X_train7, y_train7)\n",
    "\n",
    "LR_eval7 = evaluate_model(LR7, X_test7, y_test7)\n",
    "\n",
    "print('Accuracy:', LR_eval7['acc'])\n",
    "print('Precision:', LR_eval7['prec'])\n",
    "print('Recall:', LR_eval7['rec'])\n",
    "print('F1 Score:', LR_eval7['f1'])\n",
    "print('Cohens Kappa Score:', LR_eval7['kappa'])\n",
    "print('Area Under Curve:', LR_eval7['auc'])\n",
    "print('Confusion Matrix:\\n', LR_eval7['cm'])\n"
   ]
  },
  {
   "cell_type": "code",
   "execution_count": 109,
   "metadata": {},
   "outputs": [],
   "source": [
    "def evaluate_model(model, x_test, y_test):\n",
    "    from sklearn import metrics\n",
    "\n",
    "    # Predict Test Data \n",
    "    y_pred8 = model.predict(X_test8)\n",
    "\n",
    "    # Calculate accuracy, precision, recall, f1-score, and kappa score\n",
    "    acc = metrics.accuracy_score(y_test8, y_pred8)\n",
    "    prec = metrics.precision_score(y_test8, y_pred8)\n",
    "    rec = metrics.recall_score(y_test8, y_pred8)\n",
    "    f1 = metrics.f1_score(y_test8, y_pred8)\n",
    "    kappa = metrics.cohen_kappa_score(y_test8, y_pred8)\n",
    "\n",
    "    # Calculate area under curve (AUC)\n",
    "    y_pred_proba8 = model.predict_proba(X_test8)[::,1]\n",
    "    fpr, tpr, _ = metrics.roc_curve(y_test8, y_pred_proba8)\n",
    "    auc = metrics.roc_auc_score(y_test8, y_pred_proba8)\n",
    "\n",
    "    # Display confussion matrix\n",
    "    cm = metrics.confusion_matrix(y_test8, y_pred8)\n",
    "\n",
    "    return {'acc': acc, 'prec': prec, 'rec': rec, 'f1': f1, 'kappa': kappa, \n",
    "            'fpr': fpr, 'tpr': tpr, 'auc': auc, 'cm': cm}"
   ]
  },
  {
   "cell_type": "code",
   "execution_count": 110,
   "metadata": {},
   "outputs": [
    {
     "name": "stdout",
     "output_type": "stream",
     "text": [
      "Accuracy: 0.6319444444444444\n",
      "Precision: 0.6319444444444444\n",
      "Recall: 1.0\n",
      "F1 Score: 0.774468085106383\n",
      "Cohens Kappa Score: 0.0\n",
      "Area Under Curve: 0.6314534522081692\n",
      "Confusion Matrix:\n",
      " [[ 0 53]\n",
      " [ 0 91]]\n"
     ]
    }
   ],
   "source": [
    "LR8 = LogisticRegression()\n",
    "LR8.fit(X_train8, y_train8)\n",
    "\n",
    "LR_eval8 = evaluate_model(LR8, X_test8, y_test8)\n",
    "\n",
    "print('Accuracy:', LR_eval8['acc'])\n",
    "print('Precision:', LR_eval8['prec'])\n",
    "print('Recall:', LR_eval8['rec'])\n",
    "print('F1 Score:', LR_eval8['f1'])\n",
    "print('Cohens Kappa Score:', LR_eval8['kappa'])\n",
    "print('Area Under Curve:', LR_eval8['auc'])\n",
    "print('Confusion Matrix:\\n', LR_eval8['cm'])\n"
   ]
  },
  {
   "cell_type": "code",
   "execution_count": 111,
   "metadata": {},
   "outputs": [],
   "source": [
    "def evaluate_model(model, x_test, y_test):\n",
    "    from sklearn import metrics\n",
    "\n",
    "    # Predict Test Data \n",
    "    y_pred9 = model.predict(X_test9)\n",
    "\n",
    "    # Calculate accuracy, precision, recall, f1-score, and kappa score\n",
    "    acc = metrics.accuracy_score(y_test9, y_pred9)\n",
    "    prec = metrics.precision_score(y_test9, y_pred9)\n",
    "    rec = metrics.recall_score(y_test9, y_pred9)\n",
    "    f1 = metrics.f1_score(y_test9, y_pred9)\n",
    "    kappa = metrics.cohen_kappa_score(y_test9, y_pred9)\n",
    "\n",
    "    # Calculate area under curve (AUC)\n",
    "    y_pred_proba9 = model.predict_proba(X_test9)[::,1]\n",
    "    fpr, tpr, _ = metrics.roc_curve(y_test9, y_pred_proba9)\n",
    "    auc = metrics.roc_auc_score(y_test9, y_pred_proba9)\n",
    "\n",
    "    # Display confussion matrix\n",
    "    cm = metrics.confusion_matrix(y_test9, y_pred9)\n",
    "\n",
    "    return {'acc': acc, 'prec': prec, 'rec': rec, 'f1': f1, 'kappa': kappa, \n",
    "            'fpr': fpr, 'tpr': tpr, 'auc': auc, 'cm': cm}"
   ]
  },
  {
   "cell_type": "code",
   "execution_count": 112,
   "metadata": {},
   "outputs": [
    {
     "name": "stdout",
     "output_type": "stream",
     "text": [
      "Accuracy: 0.6319444444444444\n",
      "Precision: 0.6319444444444444\n",
      "Recall: 1.0\n",
      "F1 Score: 0.774468085106383\n",
      "Cohens Kappa Score: 0.0\n",
      "Area Under Curve: 0.5627202985693551\n",
      "Confusion Matrix:\n",
      " [[ 0 53]\n",
      " [ 0 91]]\n"
     ]
    }
   ],
   "source": [
    "LR9 = LogisticRegression()\n",
    "LR9.fit(X_train9, y_train9)\n",
    "\n",
    "LR_eval9 = evaluate_model(LR9, X_test9, y_test9)\n",
    "\n",
    "print('Accuracy:', LR_eval9['acc'])\n",
    "print('Precision:', LR_eval9['prec'])\n",
    "print('Recall:', LR_eval9['rec'])\n",
    "print('F1 Score:', LR_eval9['f1'])\n",
    "print('Cohens Kappa Score:', LR_eval9['kappa'])\n",
    "print('Area Under Curve:', LR_eval9['auc'])\n",
    "print('Confusion Matrix:\\n', LR_eval9['cm'])\n"
   ]
  },
  {
   "cell_type": "code",
   "execution_count": 113,
   "metadata": {},
   "outputs": [],
   "source": [
    "def evaluate_model(model, x_test, y_test):\n",
    "    from sklearn import metrics\n",
    "\n",
    "    # Predict Test Data \n",
    "    y_pred10 = model.predict(X_test10)\n",
    "\n",
    "    # Calculate accuracy, precision, recall, f1-score, and kappa score\n",
    "    acc = metrics.accuracy_score(y_test10, y_pred10)\n",
    "    prec = metrics.precision_score(y_test10, y_pred10)\n",
    "    rec = metrics.recall_score(y_test10, y_pred10)\n",
    "    f1 = metrics.f1_score(y_test10, y_pred10)\n",
    "    kappa = metrics.cohen_kappa_score(y_test10, y_pred10)\n",
    "\n",
    "    # Calculate area under curve (AUC)\n",
    "    y_pred_proba10 = model.predict_proba(X_test10)[::,1]\n",
    "    fpr, tpr, _ = metrics.roc_curve(y_test10, y_pred_proba10)\n",
    "    auc = metrics.roc_auc_score(y_test10, y_pred_proba10)\n",
    "\n",
    "    # Display confussion matrix\n",
    "    cm = metrics.confusion_matrix(y_test10, y_pred10)\n",
    "\n",
    "    return {'acc': acc, 'prec': prec, 'rec': rec, 'f1': f1, 'kappa': kappa, \n",
    "            'fpr': fpr, 'tpr': tpr, 'auc': auc, 'cm': cm}"
   ]
  },
  {
   "cell_type": "code",
   "execution_count": 114,
   "metadata": {},
   "outputs": [
    {
     "name": "stdout",
     "output_type": "stream",
     "text": [
      "Accuracy: 0.6319444444444444\n",
      "Precision: 0.6319444444444444\n",
      "Recall: 1.0\n",
      "F1 Score: 0.774468085106383\n",
      "Cohens Kappa Score: 0.0\n",
      "Area Under Curve: 0.5891561268919759\n",
      "Confusion Matrix:\n",
      " [[ 0 53]\n",
      " [ 0 91]]\n"
     ]
    }
   ],
   "source": [
    "LR10 = LogisticRegression()\n",
    "LR10.fit(X_train10, y_train10)\n",
    "\n",
    "LR_eval10 = evaluate_model(LR10, X_test10, y_test10)\n",
    "\n",
    "print('Accuracy:', LR_eval10['acc'])\n",
    "print('Precision:', LR_eval10['prec'])\n",
    "print('Recall:', LR_eval10['rec'])\n",
    "print('F1 Score:', LR_eval10['f1'])\n",
    "print('Cohens Kappa Score:', LR_eval10['kappa'])\n",
    "print('Area Under Curve:', LR_eval10['auc'])\n",
    "print('Confusion Matrix:\\n', LR_eval10['cm'])\n"
   ]
  },
  {
   "cell_type": "code",
   "execution_count": 115,
   "metadata": {},
   "outputs": [],
   "source": [
    "def evaluate_model(model, x_test, y_test):\n",
    "    from sklearn import metrics\n",
    "\n",
    "    # Predict Test Data \n",
    "    y_pred11 = model.predict(X_test11)\n",
    "\n",
    "    # Calculate accuracy, precision, recall, f1-score, and kappa score\n",
    "    acc = metrics.accuracy_score(y_test11, y_pred11)\n",
    "    prec = metrics.precision_score(y_test11, y_pred11)\n",
    "    rec = metrics.recall_score(y_test11, y_pred11)\n",
    "    f1 = metrics.f1_score(y_test11, y_pred11)\n",
    "    kappa = metrics.cohen_kappa_score(y_test11, y_pred11)\n",
    "\n",
    "    # Calculate area under curve (AUC)\n",
    "    y_pred_proba11 = model.predict_proba(X_test11)[::,1]\n",
    "    fpr, tpr, _ = metrics.roc_curve(y_test11, y_pred_proba11)\n",
    "    auc = metrics.roc_auc_score(y_test11, y_pred_proba11)\n",
    "\n",
    "    # Display confussion matrix\n",
    "    cm = metrics.confusion_matrix(y_test11, y_pred11)\n",
    "\n",
    "    return {'acc': acc, 'prec': prec, 'rec': rec, 'f1': f1, 'kappa': kappa, \n",
    "            'fpr': fpr, 'tpr': tpr, 'auc': auc, 'cm': cm}"
   ]
  },
  {
   "cell_type": "code",
   "execution_count": 116,
   "metadata": {},
   "outputs": [
    {
     "name": "stdout",
     "output_type": "stream",
     "text": [
      "Accuracy: 0.6319444444444444\n",
      "Precision: 0.6319444444444444\n",
      "Recall: 1.0\n",
      "F1 Score: 0.774468085106383\n",
      "Cohens Kappa Score: 0.0\n",
      "Area Under Curve: 0.5822102425876011\n",
      "Confusion Matrix:\n",
      " [[ 0 53]\n",
      " [ 0 91]]\n"
     ]
    }
   ],
   "source": [
    "LR11 = LogisticRegression()\n",
    "LR11.fit(X_train11, y_train11)\n",
    "\n",
    "LR_eval11 = evaluate_model(LR11, X_test11, y_test11)\n",
    "\n",
    "print('Accuracy:', LR_eval11['acc'])\n",
    "print('Precision:', LR_eval11['prec'])\n",
    "print('Recall:', LR_eval11['rec'])\n",
    "print('F1 Score:', LR_eval11['f1'])\n",
    "print('Cohens Kappa Score:', LR_eval11['kappa'])\n",
    "print('Area Under Curve:', LR_eval11['auc'])\n",
    "print('Confusion Matrix:\\n', LR_eval11['cm'])\n"
   ]
  },
  {
   "cell_type": "code",
   "execution_count": 117,
   "metadata": {},
   "outputs": [],
   "source": [
    "def evaluate_model(model, x_test, y_test):\n",
    "    from sklearn import metrics\n",
    "\n",
    "    # Predict Test Data \n",
    "    y_pred12 = model.predict(X_test12)\n",
    "\n",
    "    # Calculate accuracy, precision, recall, f1-score, and kappa score\n",
    "    acc = metrics.accuracy_score(y_test12, y_pred12)\n",
    "    prec = metrics.precision_score(y_test12, y_pred12)\n",
    "    rec = metrics.recall_score(y_test12, y_pred12)\n",
    "    f1 = metrics.f1_score(y_test12, y_pred12)\n",
    "    kappa = metrics.cohen_kappa_score(y_test12, y_pred12)\n",
    "\n",
    "    # Calculate area under curve (AUC)\n",
    "    y_pred_proba12 = model.predict_proba(X_test12)[::,1]\n",
    "    fpr, tpr, _ = metrics.roc_curve(y_test12, y_pred_proba12)\n",
    "    auc = metrics.roc_auc_score(y_test12, y_pred_proba12)\n",
    "\n",
    "    # Display confussion matrix\n",
    "    cm = metrics.confusion_matrix(y_test12, y_pred12)\n",
    "\n",
    "    return {'acc': acc, 'prec': prec, 'rec': rec, 'f1': f1, 'kappa': kappa, \n",
    "            'fpr': fpr, 'tpr': tpr, 'auc': auc, 'cm': cm}"
   ]
  },
  {
   "cell_type": "code",
   "execution_count": 118,
   "metadata": {},
   "outputs": [
    {
     "name": "stdout",
     "output_type": "stream",
     "text": [
      "Accuracy: 0.6319444444444444\n",
      "Precision: 0.6319444444444444\n",
      "Recall: 1.0\n",
      "F1 Score: 0.774468085106383\n",
      "Cohens Kappa Score: 0.0\n",
      "Area Under Curve: 0.5231183910429194\n",
      "Confusion Matrix:\n",
      " [[ 0 53]\n",
      " [ 0 91]]\n"
     ]
    }
   ],
   "source": [
    "LR12 = LogisticRegression()\n",
    "LR12.fit(X_train12, y_train12)\n",
    "\n",
    "LR_eval12 = evaluate_model(LR12, X_test12, y_test12)\n",
    "\n",
    "print('Accuracy:', LR_eval12['acc'])\n",
    "print('Precision:', LR_eval12['prec'])\n",
    "print('Recall:', LR_eval12['rec'])\n",
    "print('F1 Score:', LR_eval12['f1'])\n",
    "print('Cohens Kappa Score:', LR_eval12['kappa'])\n",
    "print('Area Under Curve:', LR_eval12['auc'])\n",
    "print('Confusion Matrix:\\n', LR_eval12['cm'])\n"
   ]
  },
  {
   "cell_type": "code",
   "execution_count": 119,
   "metadata": {},
   "outputs": [],
   "source": [
    "def evaluate_model(model, x_test, y_test):\n",
    "    from sklearn import metrics\n",
    "\n",
    "    # Predict Test Data \n",
    "    y_pred13 = model.predict(X_test13)\n",
    "\n",
    "    # Calculate accuracy, precision, recall, f1-score, and kappa score\n",
    "    acc = metrics.accuracy_score(y_test13, y_pred13)\n",
    "    prec = metrics.precision_score(y_test13, y_pred13)\n",
    "    rec = metrics.recall_score(y_test13, y_pred13)\n",
    "    f1 = metrics.f1_score(y_test13, y_pred13)\n",
    "    kappa = metrics.cohen_kappa_score(y_test13, y_pred13)\n",
    "\n",
    "    # Calculate area under curve (AUC)\n",
    "    y_pred_proba13 = model.predict_proba(X_test13)[::,1]\n",
    "    fpr, tpr, _ = metrics.roc_curve(y_test13, y_pred_proba13)\n",
    "    auc = metrics.roc_auc_score(y_test13, y_pred_proba13)\n",
    "\n",
    "    # Display confussion matrix\n",
    "    cm = metrics.confusion_matrix(y_test13, y_pred13)\n",
    "\n",
    "    return {'acc': acc, 'prec': prec, 'rec': rec, 'f1': f1, 'kappa': kappa,\n",
    "            'fpr': fpr, 'tpr': tpr, 'auc': auc, 'cm': cm}\n",
    "            "
   ]
  },
  {
   "cell_type": "code",
   "execution_count": 120,
   "metadata": {},
   "outputs": [
    {
     "name": "stdout",
     "output_type": "stream",
     "text": [
      "Accuracy: 0.6319444444444444\n",
      "Precision: 0.6319444444444444\n",
      "Recall: 1.0\n",
      "F1 Score: 0.774468085106383\n",
      "Cohens Kappa Score: 0.0\n",
      "Area Under Curve: 0.6046029442255858\n",
      "Confusion Matrix:\n",
      " [[ 0 53]\n",
      " [ 0 91]]\n"
     ]
    }
   ],
   "source": [
    "LR13 = LogisticRegression()\n",
    "LR13.fit(X_train13, y_train13)\n",
    "\n",
    "LR_eval13 = evaluate_model(LR13, X_test13, y_test13)\n",
    "\n",
    "print('Accuracy:', LR_eval13['acc'])\n",
    "print('Precision:', LR_eval13['prec'])\n",
    "print('Recall:', LR_eval13['rec'])\n",
    "print('F1 Score:', LR_eval13['f1'])\n",
    "print('Cohens Kappa Score:', LR_eval13['kappa'])\n",
    "print('Area Under Curve:', LR_eval13['auc'])\n",
    "print('Confusion Matrix:\\n', LR_eval13['cm'])\n"
   ]
  },
  {
   "cell_type": "code",
   "execution_count": 121,
   "metadata": {},
   "outputs": [],
   "source": [
    "def evaluate_model(model, x_test, y_test):\n",
    "    from sklearn import metrics\n",
    "\n",
    "    # Predict Test Data \n",
    "    y_pred14 = model.predict(X_test14)\n",
    "\n",
    "    # Calculate accuracy, precision, recall, f1-score, and kappa score\n",
    "    acc = metrics.accuracy_score(y_test14, y_pred14)\n",
    "    prec = metrics.precision_score(y_test14, y_pred14)\n",
    "    rec = metrics.recall_score(y_test14, y_pred14)\n",
    "    f1 = metrics.f1_score(y_test14, y_pred14)\n",
    "    kappa = metrics.cohen_kappa_score(y_test14, y_pred14)\n",
    "\n",
    "    # Calculate area under curve (AUC)\n",
    "    y_pred_proba14 = model.predict_proba(X_test14)[::,1]\n",
    "    fpr, tpr, _ = metrics.roc_curve(y_test14, y_pred_proba14)\n",
    "    auc = metrics.roc_auc_score(y_test14, y_pred_proba14)\n",
    "\n",
    "    # Display confussion matrix\n",
    "    cm = metrics.confusion_matrix(y_test14, y_pred14)\n",
    "\n",
    "    return {'acc': acc, 'prec': prec, 'rec': rec, 'f1': f1, 'kappa': kappa,\n",
    "            'fpr': fpr, 'tpr': tpr, 'auc': auc, 'cm': cm}\n",
    "            "
   ]
  },
  {
   "cell_type": "code",
   "execution_count": 122,
   "metadata": {},
   "outputs": [
    {
     "name": "stdout",
     "output_type": "stream",
     "text": [
      "Accuracy: 0.6319444444444444\n",
      "Precision: 0.6319444444444444\n",
      "Recall: 1.0\n",
      "F1 Score: 0.774468085106383\n",
      "Cohens Kappa Score: 0.0\n",
      "Area Under Curve: 0.5652083765291313\n",
      "Confusion Matrix:\n",
      " [[ 0 53]\n",
      " [ 0 91]]\n"
     ]
    }
   ],
   "source": [
    "LR14 = LogisticRegression()\n",
    "LR14.fit(X_train14, y_train14)\n",
    "\n",
    "LR_eval14 = evaluate_model(LR14, X_test14, y_test14)\n",
    "\n",
    "print('Accuracy:', LR_eval14['acc'])\n",
    "print('Precision:', LR_eval14['prec'])\n",
    "print('Recall:', LR_eval14['rec'])\n",
    "print('F1 Score:', LR_eval14['f1'])\n",
    "print('Cohens Kappa Score:', LR_eval14['kappa'])\n",
    "print('Area Under Curve:', LR_eval14['auc'])\n",
    "print('Confusion Matrix:\\n', LR_eval14['cm'])\n"
   ]
  },
  {
   "cell_type": "code",
   "execution_count": 123,
   "metadata": {},
   "outputs": [],
   "source": [
    "def evaluate_model(model, x_test, y_test):\n",
    "    from sklearn import metrics\n",
    "\n",
    "    # Predict Test Data \n",
    "    y_pred15 = model.predict(X_test15)\n",
    "\n",
    "    # Calculate accuracy, precision, recall, f1-score, and kappa score\n",
    "    acc = metrics.accuracy_score(y_test15, y_pred15)\n",
    "    prec = metrics.precision_score(y_test15, y_pred15)\n",
    "    rec = metrics.recall_score(y_test15, y_pred15)\n",
    "    f1 = metrics.f1_score(y_test15, y_pred15)\n",
    "    kappa = metrics.cohen_kappa_score(y_test15, y_pred15)\n",
    "\n",
    "    # Calculate area under curve (AUC)\n",
    "    y_pred_proba15 = model.predict_proba(X_test15)[::,1]\n",
    "    fpr, tpr, _ = metrics.roc_curve(y_test15, y_pred_proba15)\n",
    "    auc = metrics.roc_auc_score(y_test15, y_pred_proba15)\n",
    "\n",
    "    # Display confussion matrix\n",
    "    cm = metrics.confusion_matrix(y_test15, y_pred15)\n",
    "\n",
    "    return {'acc': acc, 'prec': prec, 'rec': rec, 'f1': f1, 'kappa': kappa,\n",
    "            'fpr': fpr, 'tpr': tpr, 'auc': auc, 'cm': cm}\n",
    "            "
   ]
  },
  {
   "cell_type": "code",
   "execution_count": 124,
   "metadata": {},
   "outputs": [
    {
     "name": "stdout",
     "output_type": "stream",
     "text": [
      "Accuracy: 0.6319444444444444\n",
      "Precision: 0.6319444444444444\n",
      "Recall: 1.0\n",
      "F1 Score: 0.774468085106383\n",
      "Cohens Kappa Score: 0.0\n",
      "Area Under Curve: 0.6126891975948581\n",
      "Confusion Matrix:\n",
      " [[ 0 53]\n",
      " [ 0 91]]\n"
     ]
    }
   ],
   "source": [
    "LR15 = LogisticRegression()\n",
    "LR15.fit(X_train15, y_train15)\n",
    "\n",
    "LR_eval15 = evaluate_model(LR15, X_test15, y_test15)\n",
    "\n",
    "print('Accuracy:', LR_eval15['acc'])\n",
    "print('Precision:', LR_eval15['prec'])\n",
    "print('Recall:', LR_eval15['rec'])\n",
    "print('F1 Score:', LR_eval15['f1'])\n",
    "print('Cohens Kappa Score:', LR_eval15['kappa'])\n",
    "print('Area Under Curve:', LR_eval15['auc'])\n",
    "print('Confusion Matrix:\\n', LR_eval15['cm'])\n"
   ]
  },
  {
   "cell_type": "code",
   "execution_count": 125,
   "metadata": {},
   "outputs": [],
   "source": [
    "def evaluate_model(model, x_test, y_test):\n",
    "    from sklearn import metrics\n",
    "\n",
    "    # Predict Test Data \n",
    "    y_pred16 = model.predict(X_test16)\n",
    "\n",
    "    # Calculate accuracy, precision, recall, f1-score, and kappa score\n",
    "    acc = metrics.accuracy_score(y_test16, y_pred16)\n",
    "    prec = metrics.precision_score(y_test16, y_pred16)\n",
    "    rec = metrics.recall_score(y_test16, y_pred16)\n",
    "    f1 = metrics.f1_score(y_test16, y_pred16)\n",
    "    kappa = metrics.cohen_kappa_score(y_test16, y_pred16)\n",
    "\n",
    "    # Calculate area under curve (AUC)\n",
    "    y_pred_proba16 = model.predict_proba(X_test16)[::,1]\n",
    "    fpr, tpr, _ = metrics.roc_curve(y_test16, y_pred_proba16)\n",
    "    auc = metrics.roc_auc_score(y_test16, y_pred_proba16)\n",
    "\n",
    "    # Display confussion matrix\n",
    "    cm = metrics.confusion_matrix(y_test16, y_pred16)\n",
    "\n",
    "    return {'acc': acc, 'prec': prec, 'rec': rec, 'f1': f1, 'kappa': kappa,\n",
    "            'fpr': fpr, 'tpr': tpr, 'auc': auc, 'cm': cm}\n",
    "            "
   ]
  },
  {
   "cell_type": "code",
   "execution_count": 126,
   "metadata": {},
   "outputs": [
    {
     "name": "stdout",
     "output_type": "stream",
     "text": [
      "Accuracy: 0.6319444444444444\n",
      "Precision: 0.6319444444444444\n",
      "Recall: 1.0\n",
      "F1 Score: 0.774468085106383\n",
      "Cohens Kappa Score: 0.0\n",
      "Area Under Curve: 0.6080240514202779\n",
      "Confusion Matrix:\n",
      " [[ 0 53]\n",
      " [ 0 91]]\n"
     ]
    }
   ],
   "source": [
    "LR16 = LogisticRegression()\n",
    "LR16.fit(X_train16, y_train16)\n",
    "\n",
    "LR_eval16 = evaluate_model(LR16, X_test16, y_test16)\n",
    "\n",
    "print('Accuracy:', LR_eval16['acc'])\n",
    "print('Precision:', LR_eval16['prec'])\n",
    "print('Recall:', LR_eval16['rec'])\n",
    "print('F1 Score:', LR_eval16['f1'])\n",
    "print('Cohens Kappa Score:', LR_eval16['kappa'])\n",
    "print('Area Under Curve:', LR_eval16['auc'])\n",
    "print('Confusion Matrix:\\n', LR_eval16['cm'])\n"
   ]
  },
  {
   "cell_type": "code",
   "execution_count": 127,
   "metadata": {},
   "outputs": [],
   "source": [
    "def evaluate_model(model, x_test, y_test):\n",
    "    from sklearn import metrics\n",
    "\n",
    "    # Predict Test Data \n",
    "    y_pred17 = model.predict(X_test17)\n",
    "\n",
    "    # Calculate accuracy, precision, recall, f1-score, and kappa score\n",
    "    acc = metrics.accuracy_score(y_test17, y_pred17)\n",
    "    prec = metrics.precision_score(y_test17, y_pred17)\n",
    "    rec = metrics.recall_score(y_test17, y_pred17)\n",
    "    f1 = metrics.f1_score(y_test17, y_pred17)\n",
    "    kappa = metrics.cohen_kappa_score(y_test17, y_pred17)\n",
    "\n",
    "    # Calculate area under curve (AUC)\n",
    "    y_pred_proba17 = model.predict_proba(X_test17)[::,1]\n",
    "    fpr, tpr, _ = metrics.roc_curve(y_test17, y_pred_proba17)\n",
    "    auc = metrics.roc_auc_score(y_test17, y_pred_proba17)\n",
    "\n",
    "    # Display confussion matrix\n",
    "    cm = metrics.confusion_matrix(y_test17, y_pred17)\n",
    "\n",
    "    return {'acc': acc, 'prec': prec, 'rec': rec, 'f1': f1, 'kappa': kappa,\n",
    "            'fpr': fpr, 'tpr': tpr, 'auc': auc, 'cm': cm}\n",
    "            "
   ]
  },
  {
   "cell_type": "code",
   "execution_count": 128,
   "metadata": {},
   "outputs": [
    {
     "name": "stdout",
     "output_type": "stream",
     "text": [
      "Accuracy: 0.6319444444444444\n",
      "Precision: 0.6319444444444444\n",
      "Recall: 1.0\n",
      "F1 Score: 0.774468085106383\n",
      "Cohens Kappa Score: 0.0\n",
      "Area Under Curve: 0.5798258345428158\n",
      "Confusion Matrix:\n",
      " [[ 0 53]\n",
      " [ 0 91]]\n"
     ]
    }
   ],
   "source": [
    "LR17 = LogisticRegression()\n",
    "LR17.fit(X_train17, y_train17)\n",
    "\n",
    "LR_eval17 = evaluate_model(LR17, X_test17, y_test17)\n",
    "\n",
    "print('Accuracy:', LR_eval17['acc'])\n",
    "print('Precision:', LR_eval17['prec'])\n",
    "print('Recall:', LR_eval17['rec'])\n",
    "print('F1 Score:', LR_eval17['f1'])\n",
    "print('Cohens Kappa Score:', LR_eval17['kappa'])\n",
    "print('Area Under Curve:', LR_eval17['auc'])\n",
    "print('Confusion Matrix:\\n', LR_eval17['cm'])\n"
   ]
  },
  {
   "cell_type": "code",
   "execution_count": 129,
   "metadata": {},
   "outputs": [],
   "source": [
    "def evaluate_model(model, x_test, y_test):\n",
    "    from sklearn import metrics\n",
    "\n",
    "    # Predict Test Data \n",
    "    y_pred18 = model.predict(X_test18)\n",
    "\n",
    "    # Calculate accuracy, precision, recall, f1-score, and kappa score\n",
    "    acc = metrics.accuracy_score(y_test18, y_pred18)\n",
    "    prec = metrics.precision_score(y_test18, y_pred18)\n",
    "    rec = metrics.recall_score(y_test18, y_pred18)\n",
    "    f1 = metrics.f1_score(y_test18, y_pred18)\n",
    "    kappa = metrics.cohen_kappa_score(y_test18, y_pred18)\n",
    "\n",
    "    # Calculate area under curve (AUC)\n",
    "    y_pred_proba18 = model.predict_proba(X_test18)[::,1]\n",
    "    fpr, tpr, _ = metrics.roc_curve(y_test18, y_pred_proba18)\n",
    "    auc = metrics.roc_auc_score(y_test18, y_pred_proba18)\n",
    "\n",
    "    # Display confussion matrix\n",
    "    cm = metrics.confusion_matrix(y_test18, y_pred18)\n",
    "\n",
    "    return {'acc': acc, 'prec': prec, 'rec': rec, 'f1': f1, 'kappa': kappa,\n",
    "            'fpr': fpr, 'tpr': tpr, 'auc': auc, 'cm': cm}\n",
    "            "
   ]
  },
  {
   "cell_type": "code",
   "execution_count": 130,
   "metadata": {},
   "outputs": [
    {
     "name": "stdout",
     "output_type": "stream",
     "text": [
      "Accuracy: 0.7013888888888888\n",
      "Precision: 0.6904761904761905\n",
      "Recall: 0.9560439560439561\n",
      "F1 Score: 0.8018433179723503\n",
      "Cohens Kappa Score: 0.2554112554112554\n",
      "Area Under Curve: 0.7196765498652291\n",
      "Confusion Matrix:\n",
      " [[14 39]\n",
      " [ 4 87]]\n"
     ]
    },
    {
     "name": "stderr",
     "output_type": "stream",
     "text": [
      "d:\\Things\\Code\\Anaconda3\\envs\\For_CNN\\lib\\site-packages\\sklearn\\linear_model\\_logistic.py:444: ConvergenceWarning: lbfgs failed to converge (status=1):\n",
      "STOP: TOTAL NO. of ITERATIONS REACHED LIMIT.\n",
      "\n",
      "Increase the number of iterations (max_iter) or scale the data as shown in:\n",
      "    https://scikit-learn.org/stable/modules/preprocessing.html\n",
      "Please also refer to the documentation for alternative solver options:\n",
      "    https://scikit-learn.org/stable/modules/linear_model.html#logistic-regression\n",
      "  n_iter_i = _check_optimize_result(\n"
     ]
    }
   ],
   "source": [
    "LR18 = LogisticRegression()\n",
    "LR18.fit(X_train18, y_train18)\n",
    "\n",
    "LR_eval18 = evaluate_model(LR18, X_test18, y_test18)\n",
    "\n",
    "print('Accuracy:', LR_eval18['acc'])\n",
    "print('Precision:', LR_eval18['prec'])\n",
    "print('Recall:', LR_eval18['rec'])\n",
    "print('F1 Score:', LR_eval18['f1'])\n",
    "print('Cohens Kappa Score:', LR_eval18['kappa'])\n",
    "print('Area Under Curve:', LR_eval18['auc'])\n",
    "print('Confusion Matrix:\\n', LR_eval18['cm'])\n"
   ]
  },
  {
   "cell_type": "markdown",
   "metadata": {},
   "source": [
    "画图\n"
   ]
  },
  {
   "cell_type": "code",
   "execution_count": 131,
   "metadata": {},
   "outputs": [
    {
     "data": {
      "image/png": "[encoded data removed]",
      "text/plain": [
       "<Figure size 720x720 with 1 Axes>"
      ]
     },
     "metadata": {},
     "output_type": "display_data"
    }
   ],
   "source": [
    "fig, ax = plt.subplots(figsize = (10,10))\n",
    "\n",
    "fig.set_figheight(10)\n",
    "fig.set_figwidth(10)\n",
    "fig.set_facecolor('white')\n",
    "\n",
    "\n",
    "# CISD1         -1.6853      0.464     -3.632      0.000      -2.595      -0.776\n",
    "# HSBP1         -1.6595      0.509     -3.262      0.001      -2.657      -0.662\n",
    "# PGD           -1.1922      0.477     -2.497      0.013      -2.128      -0.257\n",
    "# GSS            2.5334      0.857      2.956      0.003       0.853       4.213\n",
    "# GCLM           3.1088      0.948      3.279      0.001       1.251       4.967\n",
    "# PEBP1         -1.2300      0.391     -3.142      0.002      -1.997      -0.463\n",
    "# CS            -2.8360      0.876     -3.237      0.001      -4.553      -1.119\n",
    "\n",
    "# df0 = df.drop(columns = ['ID','CISD1','G6PD','AKR1C3','HSBP1','ALOX5','ACO1','PHKG2','PGD','GSS','STEAP3','GCLM','PEBP1','CBS','AIFM2','ALOX12','ABCC1','KEAP1','CS'], axis = 1)\n",
    "# 1   Type    716 non-null    int64  \n",
    "#  2   CISD1   716 non-null    float64\n",
    "#  3   G6PD    716 non-null    float64\n",
    "#  4   AKR1C3  716 non-null    float64\n",
    "#  5   HSBP1   716 non-null    float64\n",
    "#  6   ALOX5   716 non-null    float64\n",
    "#  7   ACO1    716 non-null    float64\n",
    "#  8   PHKG2   716 non-null    float64\n",
    "#  9   PGD     716 non-null    float64\n",
    "#  10  GSS     716 non-null    float64\n",
    "#  11  STEAP3  716 non-null    float64\n",
    "#  12  GCLM    716 non-null    float64\n",
    "#  13  PEBP1   716 non-null    float64\n",
    "#  14  CBS     716 non-null    float64\n",
    "#  15  AIFM2   716 non-null    float64\n",
    "#  16  ALOX12  716 non-null    float64\n",
    "#  17  ABCC1   716 non-null    float64\n",
    "#  18  KEAP1   716 non-null    float64\n",
    "#  19  CS      716 non-null    float64\n",
    "\n",
    "ax.plot(LR_eval0['fpr'], LR_eval0['tpr'], label='AUC of CISD1, auc = {:0.5f}'.format(LR_eval0['auc']))\n",
    "ax.plot(LR_eval1['fpr'], LR_eval1['tpr'], label='AUC of G6PD, auc = {:0.5f}'.format(LR_eval1['auc']))\n",
    "ax.plot(LR_eval2['fpr'], LR_eval2['tpr'], label='AUC of AKR1C3, auc = {:0.5f}'.format(LR_eval2['auc']))\n",
    "ax.plot(LR_eval3['fpr'], LR_eval3['tpr'], label='AUC of HSBP1, auc = {:0.5f}'.format(LR_eval3['auc']))\n",
    "ax.plot(LR_eval4['fpr'], LR_eval4['tpr'], label='AUC of ALOX5, auc = {:0.5f}'.format(LR_eval4['auc']))\n",
    "ax.plot(LR_eval5['fpr'], LR_eval5['tpr'], label='AUC of ACO1, auc = {:0.5f}'.format(LR_eval5['auc']))\n",
    "ax.plot(LR_eval6['fpr'], LR_eval6['tpr'], label='AUC of PHKG2, auc = {:0.5f}'.format(LR_eval6['auc']))\n",
    "ax.plot(LR_eval7['fpr'], LR_eval7['tpr'], label='AUC of PGD, auc = {:0.5f}'.format(LR_eval7['auc']))\n",
    "ax.plot(LR_eval8['fpr'], LR_eval8['tpr'], label='AUC of GSS, auc = {:0.5f}'.format(LR_eval8['auc']))\n",
    "ax.plot(LR_eval9['fpr'], LR_eval9['tpr'], label='AUC of STEAP3, auc = {:0.5f}'.format(LR_eval9['auc']))\n",
    "ax.plot(LR_eval10['fpr'], LR_eval10['tpr'], label='AUC of GCLM, auc = {:0.5f}'.format(LR_eval10['auc']))\n",
    "ax.plot(LR_eval11['fpr'], LR_eval11['tpr'], label='AUC of PEBP1, auc = {:0.5f}'.format(LR_eval11['auc']))\n",
    "ax.plot(LR_eval12['fpr'], LR_eval12['tpr'], label='AUC of CBS, auc = {:0.5f}'.format(LR_eval12['auc']))\n",
    "ax.plot(LR_eval13['fpr'], LR_eval13['tpr'], label='AUC of AIFM2, auc = {:0.5f}'.format(LR_eval13['auc']))\n",
    "ax.plot(LR_eval14['fpr'], LR_eval14['tpr'], label='AUC of ALOX12, auc = {:0.5f}'.format(LR_eval14['auc']))\n",
    "ax.plot(LR_eval15['fpr'], LR_eval15['tpr'], label='AUC of ABCC1, auc = {:0.5f}'.format(LR_eval15['auc']))\n",
    "ax.plot(LR_eval16['fpr'], LR_eval16['tpr'], label='AUC of KEAP1, auc = {:0.5f}'.format(LR_eval16['auc']))\n",
    "ax.plot(LR_eval17['fpr'], LR_eval17['tpr'], label='AUC of CS, auc = {:0.5f}'.format(LR_eval17['auc']))\n",
    "# ax.plot(LR_eval18['fpr'], LR_eval18['tpr'], label='AUC of all 19, auc = {:0.5f}'.format(LR_eval18['auc']))\n",
    "# ax.plot(LR_eval19['fpr'], LR_eval19['tpr'], label='AUC of all, auc = {:0.5f}'.format(LR_eval19['auc']))\n",
    "\n",
    "# ax.plot(knn_eval['fpr'], knn_eval['tpr'], label='K-Nearest Nieghbor, auc = {:0.5f}'.format(knn_eval['auc']))\n",
    "\n",
    "## Configure x and y axis\n",
    "ax.set_xlabel('False Positive Rate', fontweight='bold')\n",
    "ax.set_ylabel('True Positive Rate', fontweight='bold')\n",
    "\n",
    "## Create legend & title\n",
    "ax.legend(loc=4)\n",
    "\n",
    "plt.show()\n",
    "fig.savefig('19 all AUC.png',dpi=600,bbox_inches='tight')\n"
   ]
  },
  {
   "cell_type": "code",
   "execution_count": 132,
   "metadata": {},
   "outputs": [
    {
     "data": {
      "image/png": "[encoded data removed]",
      "text/plain": [
       "<Figure size 720x720 with 1 Axes>"
      ]
     },
     "metadata": {},
     "output_type": "display_data"
    }
   ],
   "source": [
    "fig, ax = plt.subplots(figsize = (10,10))\n",
    "\n",
    "fig.set_figheight(10)\n",
    "fig.set_figwidth(10)\n",
    "fig.set_facecolor('white')\n",
    "\n",
    "\n",
    "# CISD1         -1.6853      0.464     -3.632      0.000      -2.595      -0.776\n",
    "# HSBP1         -1.6595      0.509     -3.262      0.001      -2.657      -0.662\n",
    "# PGD           -1.1922      0.477     -2.497      0.013      -2.128      -0.257\n",
    "# GSS            2.5334      0.857      2.956      0.003       0.853       4.213\n",
    "# GCLM           3.1088      0.948      3.279      0.001       1.251       4.967\n",
    "# PEBP1         -1.2300      0.391     -3.142      0.002      -1.997      -0.463\n",
    "# CS            -2.8360      0.876     -3.237      0.001      -4.553      -1.119\n",
    "\n",
    "# df0 = df.drop(columns = ['ID','CISD1','G6PD','AKR1C3','HSBP1','ALOX5','ACO1','PHKG2','PGD','GSS','STEAP3','GCLM','PEBP1','CBS','AIFM2','ALOX12','ABCC1','KEAP1','CS'], axis = 1)\n",
    "# 1   Type    716 non-null    int64  \n",
    "#  2   CISD1   716 non-null    float64\n",
    "#  3   G6PD    716 non-null    float64\n",
    "#  4   AKR1C3  716 non-null    float64\n",
    "#  5   HSBP1   716 non-null    float64\n",
    "#  6   ALOX5   716 non-null    float64\n",
    "#  7   ACO1    716 non-null    float64\n",
    "#  8   PHKG2   716 non-null    float64\n",
    "#  9   PGD     716 non-null    float64\n",
    "#  10  GSS     716 non-null    float64\n",
    "#  11  STEAP3  716 non-null    float64\n",
    "#  12  GCLM    716 non-null    float64\n",
    "#  13  PEBP1   716 non-null    float64\n",
    "#  14  CBS     716 non-null    float64\n",
    "#  15  AIFM2   716 non-null    float64\n",
    "#  16  ALOX12  716 non-null    float64\n",
    "#  17  ABCC1   716 non-null    float64\n",
    "#  18  KEAP1   716 non-null    float64\n",
    "#  19  CS      716 non-null    float64\n",
    "\n",
    "ax.plot(LR_eval0['fpr'], LR_eval0['tpr'], label='AUC of CISD1, auc = {:0.5f}'.format(LR_eval0['auc']))\n",
    "ax.plot(LR_eval1['fpr'], LR_eval1['tpr'], label='AUC of G6PD, auc = {:0.5f}'.format(LR_eval1['auc']))\n",
    "ax.plot(LR_eval2['fpr'], LR_eval2['tpr'], label='AUC of AKR1C3, auc = {:0.5f}'.format(LR_eval2['auc']))\n",
    "ax.plot(LR_eval3['fpr'], LR_eval3['tpr'], label='AUC of HSBP1, auc = {:0.5f}'.format(LR_eval3['auc']))\n",
    "# ax.plot(LR_eval4['fpr'], LR_eval4['tpr'], label='AUC of ALOX5, auc = {:0.5f}'.format(LR_eval4['auc']))\n",
    "# ax.plot(LR_eval5['fpr'], LR_eval5['tpr'], label='AUC of ACO1, auc = {:0.5f}'.format(LR_eval5['auc']))\n",
    "# ax.plot(LR_eval6['fpr'], LR_eval6['tpr'], label='AUC of PHKG2, auc = {:0.5f}'.format(LR_eval6['auc']))\n",
    "# ax.plot(LR_eval7['fpr'], LR_eval7['tpr'], label='AUC of PGD, auc = {:0.5f}'.format(LR_eval7['auc']))\n",
    "# ax.plot(LR_eval8['fpr'], LR_eval8['tpr'], label='AUC of GSS, auc = {:0.5f}'.format(LR_eval8['auc']))\n",
    "# ax.plot(LR_eval9['fpr'], LR_eval9['tpr'], label='AUC of STEAP3, auc = {:0.5f}'.format(LR_eval9['auc']))\n",
    "# ax.plot(LR_eval10['fpr'], LR_eval10['tpr'], label='AUC of GCLM, auc = {:0.5f}'.format(LR_eval10['auc']))\n",
    "# ax.plot(LR_eval11['fpr'], LR_eval11['tpr'], label='AUC of PEBP1, auc = {:0.5f}'.format(LR_eval11['auc']))\n",
    "# ax.plot(LR_eval12['fpr'], LR_eval12['tpr'], label='AUC of CBS, auc = {:0.5f}'.format(LR_eval12['auc']))\n",
    "# ax.plot(LR_eval13['fpr'], LR_eval13['tpr'], label='AUC of AIFM2, auc = {:0.5f}'.format(LR_eval13['auc']))\n",
    "# ax.plot(LR_eval14['fpr'], LR_eval14['tpr'], label='AUC of ALOX12, auc = {:0.5f}'.format(LR_eval14['auc']))\n",
    "# ax.plot(LR_eval15['fpr'], LR_eval15['tpr'], label='AUC of ABCC1, auc = {:0.5f}'.format(LR_eval15['auc']))\n",
    "# ax.plot(LR_eval16['fpr'], LR_eval16['tpr'], label='AUC of KEAP1, auc = {:0.5f}'.format(LR_eval16['auc']))\n",
    "# ax.plot(LR_eval17['fpr'], LR_eval17['tpr'], label='AUC of CS, auc = {:0.5f}'.format(LR_eval17['auc']))\n",
    "# ax.plot(LR_eval18['fpr'], LR_eval18['tpr'], label='AUC of all 19, auc = {:0.5f}'.format(LR_eval18['auc']))\n",
    "# ax.plot(LR_eval19['fpr'], LR_eval19['tpr'], label='AUC of all, auc = {:0.5f}'.format(LR_eval19['auc']))\n",
    "\n",
    "# ax.plot(knn_eval['fpr'], knn_eval['tpr'], label='K-Nearest Nieghbor, auc = {:0.5f}'.format(knn_eval['auc']))\n",
    "\n",
    "## Configure x and y axis\n",
    "ax.set_xlabel('False Positive Rate', fontweight='bold')\n",
    "ax.set_ylabel('True Positive Rate', fontweight='bold')\n",
    "\n",
    "## Create legend & title\n",
    "ax.legend(loc=4)\n",
    "\n",
    "plt.show()\n",
    "fig.savefig('1-4 all AUC.png',dpi=600,bbox_inches='tight')\n"
   ]
  },
  {
   "cell_type": "code",
   "execution_count": 133,
   "metadata": {},
   "outputs": [
    {
     "data": {
      "image/png": "[encoded data removed]",
      "text/plain": [
       "<Figure size 720x720 with 1 Axes>"
      ]
     },
     "metadata": {},
     "output_type": "display_data"
    }
   ],
   "source": [
    "fig, ax = plt.subplots(figsize = (10,10))\n",
    "\n",
    "fig.set_figheight(10)\n",
    "fig.set_figwidth(10)\n",
    "fig.set_facecolor('white')\n",
    "\n",
    "\n",
    "# CISD1         -1.6853      0.464     -3.632      0.000      -2.595      -0.776\n",
    "# HSBP1         -1.6595      0.509     -3.262      0.001      -2.657      -0.662\n",
    "# PGD           -1.1922      0.477     -2.497      0.013      -2.128      -0.257\n",
    "# GSS            2.5334      0.857      2.956      0.003       0.853       4.213\n",
    "# GCLM           3.1088      0.948      3.279      0.001       1.251       4.967\n",
    "# PEBP1         -1.2300      0.391     -3.142      0.002      -1.997      -0.463\n",
    "# CS            -2.8360      0.876     -3.237      0.001      -4.553      -1.119\n",
    "\n",
    "# df0 = df.drop(columns = ['ID','CISD1','G6PD','AKR1C3','HSBP1','ALOX5','ACO1','PHKG2','PGD','GSS','STEAP3','GCLM','PEBP1','CBS','AIFM2','ALOX12','ABCC1','KEAP1','CS'], axis = 1)\n",
    "# 1   Type    716 non-null    int64  \n",
    "#  2   CISD1   716 non-null    float64\n",
    "#  3   G6PD    716 non-null    float64\n",
    "#  4   AKR1C3  716 non-null    float64\n",
    "#  5   HSBP1   716 non-null    float64\n",
    "#  6   ALOX5   716 non-null    float64\n",
    "#  7   ACO1    716 non-null    float64\n",
    "#  8   PHKG2   716 non-null    float64\n",
    "#  9   PGD     716 non-null    float64\n",
    "#  10  GSS     716 non-null    float64\n",
    "#  11  STEAP3  716 non-null    float64\n",
    "#  12  GCLM    716 non-null    float64\n",
    "#  13  PEBP1   716 non-null    float64\n",
    "#  14  CBS     716 non-null    float64\n",
    "#  15  AIFM2   716 non-null    float64\n",
    "#  16  ALOX12  716 non-null    float64\n",
    "#  17  ABCC1   716 non-null    float64\n",
    "#  18  KEAP1   716 non-null    float64\n",
    "#  19  CS      716 non-null    float64\n",
    "\n",
    "# ax.plot(LR_eval0['fpr'], LR_eval0['tpr'], label='AUC of CISD1, auc = {:0.5f}'.format(LR_eval0['auc']))\n",
    "# ax.plot(LR_eval1['fpr'], LR_eval1['tpr'], label='AUC of G6PD, auc = {:0.5f}'.format(LR_eval1['auc']))\n",
    "# ax.plot(LR_eval2['fpr'], LR_eval2['tpr'], label='AUC of AKR1C3, auc = {:0.5f}'.format(LR_eval2['auc']))\n",
    "# ax.plot(LR_eval3['fpr'], LR_eval3['tpr'], label='AUC of HSBP1, auc = {:0.5f}'.format(LR_eval3['auc']))\n",
    "ax.plot(LR_eval4['fpr'], LR_eval4['tpr'], label='AUC of ALOX5, auc = {:0.5f}'.format(LR_eval4['auc']))\n",
    "ax.plot(LR_eval5['fpr'], LR_eval5['tpr'], label='AUC of ACO1, auc = {:0.5f}'.format(LR_eval5['auc']))\n",
    "ax.plot(LR_eval6['fpr'], LR_eval6['tpr'], label='AUC of PHKG2, auc = {:0.5f}'.format(LR_eval6['auc']))\n",
    "ax.plot(LR_eval7['fpr'], LR_eval7['tpr'], label='AUC of PGD, auc = {:0.5f}'.format(LR_eval7['auc']))\n",
    "# ax.plot(LR_eval8['fpr'], LR_eval8['tpr'], label='AUC of GSS, auc = {:0.5f}'.format(LR_eval8['auc']))\n",
    "# ax.plot(LR_eval9['fpr'], LR_eval9['tpr'], label='AUC of STEAP3, auc = {:0.5f}'.format(LR_eval9['auc']))\n",
    "# ax.plot(LR_eval10['fpr'], LR_eval10['tpr'], label='AUC of GCLM, auc = {:0.5f}'.format(LR_eval10['auc']))\n",
    "# ax.plot(LR_eval11['fpr'], LR_eval11['tpr'], label='AUC of PEBP1, auc = {:0.5f}'.format(LR_eval11['auc']))\n",
    "# ax.plot(LR_eval12['fpr'], LR_eval12['tpr'], label='AUC of CBS, auc = {:0.5f}'.format(LR_eval12['auc']))\n",
    "# ax.plot(LR_eval13['fpr'], LR_eval13['tpr'], label='AUC of AIFM2, auc = {:0.5f}'.format(LR_eval13['auc']))\n",
    "# ax.plot(LR_eval14['fpr'], LR_eval14['tpr'], label='AUC of ALOX12, auc = {:0.5f}'.format(LR_eval14['auc']))\n",
    "# ax.plot(LR_eval15['fpr'], LR_eval15['tpr'], label='AUC of ABCC1, auc = {:0.5f}'.format(LR_eval15['auc']))\n",
    "# ax.plot(LR_eval16['fpr'], LR_eval16['tpr'], label='AUC of KEAP1, auc = {:0.5f}'.format(LR_eval16['auc']))\n",
    "# ax.plot(LR_eval17['fpr'], LR_eval17['tpr'], label='AUC of CS, auc = {:0.5f}'.format(LR_eval17['auc']))\n",
    "# ax.plot(LR_eval18['fpr'], LR_eval18['tpr'], label='AUC of all 19, auc = {:0.5f}'.format(LR_eval18['auc']))\n",
    "# ax.plot(LR_eval19['fpr'], LR_eval19['tpr'], label='AUC of all, auc = {:0.5f}'.format(LR_eval19['auc']))\n",
    "\n",
    "# ax.plot(knn_eval['fpr'], knn_eval['tpr'], label='K-Nearest Nieghbor, auc = {:0.5f}'.format(knn_eval['auc']))\n",
    "\n",
    "## Configure x and y axis\n",
    "ax.set_xlabel('False Positive Rate', fontweight='bold')\n",
    "ax.set_ylabel('True Positive Rate', fontweight='bold')\n",
    "\n",
    "## Create legend & title\n",
    "ax.legend(loc=4)\n",
    "\n",
    "plt.show()\n",
    "fig.savefig('5-8 all AUC.png',dpi=600,bbox_inches='tight')\n"
   ]
  },
  {
   "cell_type": "code",
   "execution_count": 134,
   "metadata": {},
   "outputs": [
    {
     "data": {
      "image/png": "[encoded data removed]",
      "text/plain": [
       "<Figure size 720x720 with 1 Axes>"
      ]
     },
     "metadata": {},
     "output_type": "display_data"
    }
   ],
   "source": [
    "fig, ax = plt.subplots(figsize = (10,10))\n",
    "\n",
    "fig.set_figheight(10)\n",
    "fig.set_figwidth(10)\n",
    "fig.set_facecolor('white')\n",
    "\n",
    "\n",
    "# CISD1         -1.6853      0.464     -3.632      0.000      -2.595      -0.776\n",
    "# HSBP1         -1.6595      0.509     -3.262      0.001      -2.657      -0.662\n",
    "# PGD           -1.1922      0.477     -2.497      0.013      -2.128      -0.257\n",
    "# GSS            2.5334      0.857      2.956      0.003       0.853       4.213\n",
    "# GCLM           3.1088      0.948      3.279      0.001       1.251       4.967\n",
    "# PEBP1         -1.2300      0.391     -3.142      0.002      -1.997      -0.463\n",
    "# CS            -2.8360      0.876     -3.237      0.001      -4.553      -1.119\n",
    "\n",
    "# df0 = df.drop(columns = ['ID','CISD1','G6PD','AKR1C3','HSBP1','ALOX5','ACO1','PHKG2','PGD','GSS','STEAP3','GCLM','PEBP1','CBS','AIFM2','ALOX12','ABCC1','KEAP1','CS'], axis = 1)\n",
    "# 1   Type    716 non-null    int64  \n",
    "#  2   CISD1   716 non-null    float64\n",
    "#  3   G6PD    716 non-null    float64\n",
    "#  4   AKR1C3  716 non-null    float64\n",
    "#  5   HSBP1   716 non-null    float64\n",
    "#  6   ALOX5   716 non-null    float64\n",
    "#  7   ACO1    716 non-null    float64\n",
    "#  8   PHKG2   716 non-null    float64\n",
    "#  9   PGD     716 non-null    float64\n",
    "#  10  GSS     716 non-null    float64\n",
    "#  11  STEAP3  716 non-null    float64\n",
    "#  12  GCLM    716 non-null    float64\n",
    "#  13  PEBP1   716 non-null    float64\n",
    "#  14  CBS     716 non-null    float64\n",
    "#  15  AIFM2   716 non-null    float64\n",
    "#  16  ALOX12  716 non-null    float64\n",
    "#  17  ABCC1   716 non-null    float64\n",
    "#  18  KEAP1   716 non-null    float64\n",
    "#  19  CS      716 non-null    float64\n",
    "\n",
    "# ax.plot(LR_eval0['fpr'], LR_eval0['tpr'], label='AUC of CISD1, auc = {:0.5f}'.format(LR_eval0['auc']))\n",
    "# ax.plot(LR_eval1['fpr'], LR_eval1['tpr'], label='AUC of G6PD, auc = {:0.5f}'.format(LR_eval1['auc']))\n",
    "# ax.plot(LR_eval2['fpr'], LR_eval2['tpr'], label='AUC of AKR1C3, auc = {:0.5f}'.format(LR_eval2['auc']))\n",
    "# ax.plot(LR_eval3['fpr'], LR_eval3['tpr'], label='AUC of HSBP1, auc = {:0.5f}'.format(LR_eval3['auc']))\n",
    "# ax.plot(LR_eval4['fpr'], LR_eval4['tpr'], label='AUC of ALOX5, auc = {:0.5f}'.format(LR_eval4['auc']))\n",
    "# ax.plot(LR_eval5['fpr'], LR_eval5['tpr'], label='AUC of ACO1, auc = {:0.5f}'.format(LR_eval5['auc']))\n",
    "# ax.plot(LR_eval6['fpr'], LR_eval6['tpr'], label='AUC of PHKG2, auc = {:0.5f}'.format(LR_eval6['auc']))\n",
    "# ax.plot(LR_eval7['fpr'], LR_eval7['tpr'], label='AUC of PGD, auc = {:0.5f}'.format(LR_eval7['auc']))\n",
    "ax.plot(LR_eval8['fpr'], LR_eval8['tpr'], label='AUC of GSS, auc = {:0.5f}'.format(LR_eval8['auc']))\n",
    "ax.plot(LR_eval9['fpr'], LR_eval9['tpr'], label='AUC of STEAP3, auc = {:0.5f}'.format(LR_eval9['auc']))\n",
    "ax.plot(LR_eval10['fpr'], LR_eval10['tpr'], label='AUC of GCLM, auc = {:0.5f}'.format(LR_eval10['auc']))\n",
    "ax.plot(LR_eval11['fpr'], LR_eval11['tpr'], label='AUC of PEBP1, auc = {:0.5f}'.format(LR_eval11['auc']))\n",
    "ax.plot(LR_eval12['fpr'], LR_eval12['tpr'], label='AUC of CBS, auc = {:0.5f}'.format(LR_eval12['auc']))\n",
    "# ax.plot(LR_eval13['fpr'], LR_eval13['tpr'], label='AUC of AIFM2, auc = {:0.5f}'.format(LR_eval13['auc']))\n",
    "# ax.plot(LR_eval14['fpr'], LR_eval14['tpr'], label='AUC of ALOX12, auc = {:0.5f}'.format(LR_eval14['auc']))\n",
    "# ax.plot(LR_eval15['fpr'], LR_eval15['tpr'], label='AUC of ABCC1, auc = {:0.5f}'.format(LR_eval15['auc']))\n",
    "# ax.plot(LR_eval16['fpr'], LR_eval16['tpr'], label='AUC of KEAP1, auc = {:0.5f}'.format(LR_eval16['auc']))\n",
    "# ax.plot(LR_eval17['fpr'], LR_eval17['tpr'], label='AUC of CS, auc = {:0.5f}'.format(LR_eval17['auc']))\n",
    "# ax.plot(LR_eval18['fpr'], LR_eval18['tpr'], label='AUC of all 19, auc = {:0.5f}'.format(LR_eval18['auc']))\n",
    "# ax.plot(LR_eval19['fpr'], LR_eval19['tpr'], label='AUC of all, auc = {:0.5f}'.format(LR_eval19['auc']))\n",
    "\n",
    "# ax.plot(knn_eval['fpr'], knn_eval['tpr'], label='K-Nearest Nieghbor, auc = {:0.5f}'.format(knn_eval['auc']))\n",
    "\n",
    "## Configure x and y axis\n",
    "ax.set_xlabel('False Positive Rate', fontweight='bold')\n",
    "ax.set_ylabel('True Positive Rate', fontweight='bold')\n",
    "\n",
    "## Create legend & title\n",
    "ax.legend(loc=4)\n",
    "\n",
    "plt.show()\n",
    "fig.savefig('9-13 all AUC.png',dpi=600,bbox_inches='tight')\n"
   ]
  },
  {
   "cell_type": "code",
   "execution_count": 135,
   "metadata": {},
   "outputs": [
    {
     "data": {
      "image/png": "[encoded data removed]",
      "text/plain": [
       "<Figure size 720x720 with 1 Axes>"
      ]
     },
     "metadata": {},
     "output_type": "display_data"
    }
   ],
   "source": [
    "fig, ax = plt.subplots(figsize = (10,10))\n",
    "\n",
    "fig.set_figheight(10)\n",
    "fig.set_figwidth(10)\n",
    "fig.set_facecolor('white')\n",
    "\n",
    "\n",
    "# CISD1         -1.6853      0.464     -3.632      0.000      -2.595      -0.776\n",
    "# HSBP1         -1.6595      0.509     -3.262      0.001      -2.657      -0.662\n",
    "# PGD           -1.1922      0.477     -2.497      0.013      -2.128      -0.257\n",
    "# GSS            2.5334      0.857      2.956      0.003       0.853       4.213\n",
    "# GCLM           3.1088      0.948      3.279      0.001       1.251       4.967\n",
    "# PEBP1         -1.2300      0.391     -3.142      0.002      -1.997      -0.463\n",
    "# CS            -2.8360      0.876     -3.237      0.001      -4.553      -1.119\n",
    "\n",
    "# df0 = df.drop(columns = ['ID','CISD1','G6PD','AKR1C3','HSBP1','ALOX5','ACO1','PHKG2','PGD','GSS','STEAP3','GCLM','PEBP1','CBS','AIFM2','ALOX12','ABCC1','KEAP1','CS'], axis = 1)\n",
    "# 1   Type    716 non-null    int64  \n",
    "#  2   CISD1   716 non-null    float64\n",
    "#  3   G6PD    716 non-null    float64\n",
    "#  4   AKR1C3  716 non-null    float64\n",
    "#  5   HSBP1   716 non-null    float64\n",
    "#  6   ALOX5   716 non-null    float64\n",
    "#  7   ACO1    716 non-null    float64\n",
    "#  8   PHKG2   716 non-null    float64\n",
    "#  9   PGD     716 non-null    float64\n",
    "#  10  GSS     716 non-null    float64\n",
    "#  11  STEAP3  716 non-null    float64\n",
    "#  12  GCLM    716 non-null    float64\n",
    "#  13  PEBP1   716 non-null    float64\n",
    "#  14  CBS     716 non-null    float64\n",
    "#  15  AIFM2   716 non-null    float64\n",
    "#  16  ALOX12  716 non-null    float64\n",
    "#  17  ABCC1   716 non-null    float64\n",
    "#  18  KEAP1   716 non-null    float64\n",
    "#  19  CS      716 non-null    float64\n",
    "\n",
    "# ax.plot(LR_eval0['fpr'], LR_eval0['tpr'], label='AUC of CISD1, auc = {:0.5f}'.format(LR_eval0['auc']))\n",
    "# ax.plot(LR_eval1['fpr'], LR_eval1['tpr'], label='AUC of G6PD, auc = {:0.5f}'.format(LR_eval1['auc']))\n",
    "# ax.plot(LR_eval2['fpr'], LR_eval2['tpr'], label='AUC of AKR1C3, auc = {:0.5f}'.format(LR_eval2['auc']))\n",
    "# ax.plot(LR_eval3['fpr'], LR_eval3['tpr'], label='AUC of HSBP1, auc = {:0.5f}'.format(LR_eval3['auc']))\n",
    "# ax.plot(LR_eval4['fpr'], LR_eval4['tpr'], label='AUC of ALOX5, auc = {:0.5f}'.format(LR_eval4['auc']))\n",
    "# ax.plot(LR_eval5['fpr'], LR_eval5['tpr'], label='AUC of ACO1, auc = {:0.5f}'.format(LR_eval5['auc']))\n",
    "# ax.plot(LR_eval6['fpr'], LR_eval6['tpr'], label='AUC of PHKG2, auc = {:0.5f}'.format(LR_eval6['auc']))\n",
    "# ax.plot(LR_eval7['fpr'], LR_eval7['tpr'], label='AUC of PGD, auc = {:0.5f}'.format(LR_eval7['auc']))\n",
    "# ax.plot(LR_eval8['fpr'], LR_eval8['tpr'], label='AUC of GSS, auc = {:0.5f}'.format(LR_eval8['auc']))\n",
    "# ax.plot(LR_eval9['fpr'], LR_eval9['tpr'], label='AUC of STEAP3, auc = {:0.5f}'.format(LR_eval9['auc']))\n",
    "# ax.plot(LR_eval10['fpr'], LR_eval10['tpr'], label='AUC of GCLM, auc = {:0.5f}'.format(LR_eval10['auc']))\n",
    "# ax.plot(LR_eval11['fpr'], LR_eval11['tpr'], label='AUC of PEBP1, auc = {:0.5f}'.format(LR_eval11['auc']))\n",
    "# ax.plot(LR_eval12['fpr'], LR_eval12['tpr'], label='AUC of CBS, auc = {:0.5f}'.format(LR_eval12['auc']))\n",
    "ax.plot(LR_eval13['fpr'], LR_eval13['tpr'], label='AUC of AIFM2, auc = {:0.5f}'.format(LR_eval13['auc']))\n",
    "ax.plot(LR_eval14['fpr'], LR_eval14['tpr'], label='AUC of ALOX12, auc = {:0.5f}'.format(LR_eval14['auc']))\n",
    "ax.plot(LR_eval15['fpr'], LR_eval15['tpr'], label='AUC of ABCC1, auc = {:0.5f}'.format(LR_eval15['auc']))\n",
    "ax.plot(LR_eval16['fpr'], LR_eval16['tpr'], label='AUC of KEAP1, auc = {:0.5f}'.format(LR_eval16['auc']))\n",
    "ax.plot(LR_eval17['fpr'], LR_eval17['tpr'], label='AUC of CS, auc = {:0.5f}'.format(LR_eval17['auc']))\n",
    "# ax.plot(LR_eval18['fpr'], LR_eval18['tpr'], label='AUC of all 19, auc = {:0.5f}'.format(LR_eval18['auc']))\n",
    "# ax.plot(LR_eval19['fpr'], LR_eval19['tpr'], label='AUC of all, auc = {:0.5f}'.format(LR_eval19['auc']))\n",
    "\n",
    "# ax.plot(knn_eval['fpr'], knn_eval['tpr'], label='K-Nearest Nieghbor, auc = {:0.5f}'.format(knn_eval['auc']))\n",
    "\n",
    "## Configure x and y axis\n",
    "ax.set_xlabel('False Positive Rate', fontweight='bold')\n",
    "ax.set_ylabel('True Positive Rate', fontweight='bold')\n",
    "\n",
    "## Create legend & title\n",
    "ax.legend(loc=4)\n",
    "\n",
    "plt.show()\n",
    "fig.savefig('14-18 all AUC.png',dpi=600,bbox_inches='tight')\n"
   ]
  }
 ],
 "metadata": {
  "interpreter": {
   "hash": "2060d6152d17f4b3c93c312633479dc450a5fd0bdc129f9d29bf5798c94da0b5"
  },
  "kernelspec": {
   "display_name": "Python 3.9.7 ('For_CNN')",
   "language": "python",
   "name": "python3"
  },
  "language_info": {
   "codemirror_mode": {
    "name": "ipython",
    "version": 3
   },
   "file_extension": ".py",
   "mimetype": "text/x-python",
   "name": "python",
   "nbconvert_exporter": "python",
   "pygments_lexer": "ipython3",
   "version": "3.9.7"
  },
  "orig_nbformat": 4
 },
 "nbformat": 4,
 "nbformat_minor": 2
}
